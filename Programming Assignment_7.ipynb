{
 "cells": [
  {
   "cell_type": "markdown",
   "id": "c1f563b6",
   "metadata": {},
   "source": [
    "# Programming Assignment_7"
   ]
  },
  {
   "cell_type": "code",
   "execution_count": 1,
   "id": "0e727b7b",
   "metadata": {},
   "outputs": [
    {
     "name": "stdout",
     "output_type": "stream",
     "text": [
      "21\n"
     ]
    }
   ],
   "source": [
    "# Write a Python Program to find sum of array\n",
    "\n",
    "l = [2,3,4,1,2,3,1]\n",
    "s=0\n",
    "for i in range(0,len(l)):\n",
    "    s=s+i\n",
    "print(s)"
   ]
  },
  {
   "cell_type": "code",
   "execution_count": 8,
   "id": "5b844526",
   "metadata": {},
   "outputs": [
    {
     "name": "stdout",
     "output_type": "stream",
     "text": [
      "10\n"
     ]
    }
   ],
   "source": [
    "# Write a Python Program to find largest element in an array\n",
    "\n",
    "l = [8,1,6,3,7,9,4,5,2,1,4,10]\n",
    "\n",
    "for i in range(0, len(l)):\n",
    "    for j in range(i, len(l)):\n",
    "        if l[i] > l[j]:\n",
    "            l[i], l[j] = l[j], l[i]\n",
    "print(l[-1])"
   ]
  },
  {
   "cell_type": "code",
   "execution_count": 90,
   "id": "8af8697f",
   "metadata": {},
   "outputs": [
    {
     "name": "stdout",
     "output_type": "stream",
     "text": [
      "Enter the value of elements rotated : 3\n",
      "[4, 5, 6, 7, 1, 2, 3]\n"
     ]
    }
   ],
   "source": [
    "# Write a Python Program for array rotation\n",
    "\n",
    "l = [1, 2, 3, 4, 5, 6, 7] \n",
    "d = int(input(\"Enter the value of elements rotated : \"))\n",
    "\n",
    "\n",
    "# for a single rotation\n",
    "\n",
    "def single_rotation(l):\n",
    "    c = l[0]\n",
    "    for i in range(0,len(l)-1):\n",
    "        l[i] = l[i+1]\n",
    "    l[len(l)-1] = c\n",
    "    return l\n",
    "    \n",
    "# for a multi-elements rotation the same list\n",
    "\n",
    "def elements_rotate(d):\n",
    "    for j in range(d):\n",
    "        single_rotation(l)\n",
    "\n",
    "elements_rotate(d)    \n",
    "print(l)"
   ]
  },
  {
   "cell_type": "code",
   "execution_count": 36,
   "id": "859970b3",
   "metadata": {},
   "outputs": [
    {
     "name": "stdout",
     "output_type": "stream",
     "text": [
      "Enter the value of elements splitted : 3\n",
      "[1, 2, 3]\n",
      "[4, 5, 6, 7]\n",
      "[4, 5, 6, 7, 1, 2, 3]\n"
     ]
    }
   ],
   "source": [
    "# Write a Python Program to Split the array and add the first part to the end\n",
    "\n",
    "l=[1, 2, 3, 4, 5, 6, 7]\n",
    "d=int(input(\"Enter the value of elements splitted : \"))\n",
    "\n",
    "# split a first list \n",
    "l1=[]\n",
    "i=0\n",
    "while i < d:\n",
    "    l1.append(l[i])\n",
    "    i=i+1\n",
    "print(l1)\n",
    "\n",
    "# split a second list\n",
    "n=len(l)\n",
    "l2=[]\n",
    "while d < n:\n",
    "    l2.append(l[d])\n",
    "    d=d+1\n",
    "print(l2)\n",
    "\n",
    "# add the list\n",
    "l3 = l2 + l1\n",
    "print(l3)"
   ]
  },
  {
   "cell_type": "code",
   "execution_count": 17,
   "id": "e937d34f",
   "metadata": {},
   "outputs": [
    {
     "name": "stdout",
     "output_type": "stream",
     "text": [
      "This is a monotnic decreases from left to right\n"
     ]
    }
   ],
   "source": [
    "# Write a Python Program to check if given array is Monotonic\n",
    "\n",
    "l = [9,8,7,6,5,4,3,2,1]\n",
    "\n",
    "\n",
    "if l[0]<l[1]:\n",
    "\n",
    "    for i in range(0,len(l)-1):\n",
    "        if l[i]<l[i+1]:\n",
    "            pass\n",
    "\n",
    "        else:\n",
    "            print(\"This is not monotonic\")\n",
    "            break\n",
    "    else:\n",
    "        print(\"This is a monotnic increases from left to right.\")\n",
    "else :\n",
    "    for i in range(0,len(l)-1):\n",
    "        if l[i]>l[i+1]:\n",
    "            pass\n",
    "\n",
    "        else:\n",
    "            print(\"This is not monotonic\")\n",
    "            break\n",
    "    else:\n",
    "        print(\"This is a monotnic decreases from left to right.\")"
   ]
  },
  {
   "cell_type": "code",
   "execution_count": 42,
   "id": "3d1e8c0d",
   "metadata": {},
   "outputs": [
    {
     "name": "stdout",
     "output_type": "stream",
     "text": [
      "tnameH\n"
     ]
    }
   ],
   "source": [
    "# Reverse the string\n",
    "\n",
    "s = \"Hemant\"\n",
    "len(s)\n",
    "s1=\"\"\n",
    "for i in range(len(s)-1,-1,-1):\n",
    "    s1 = s1 + s[i]\n",
    "print(s1)"
   ]
  }
 ],
 "metadata": {
  "kernelspec": {
   "display_name": "Python 3 (ipykernel)",
   "language": "python",
   "name": "python3"
  },
  "language_info": {
   "codemirror_mode": {
    "name": "ipython",
    "version": 3
   },
   "file_extension": ".py",
   "mimetype": "text/x-python",
   "name": "python",
   "nbconvert_exporter": "python",
   "pygments_lexer": "ipython3",
   "version": "3.9.12"
  }
 },
 "nbformat": 4,
 "nbformat_minor": 5
}
