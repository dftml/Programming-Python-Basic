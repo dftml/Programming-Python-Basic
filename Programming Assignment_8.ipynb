{
 "cells": [
  {
   "cell_type": "markdown",
   "id": "10b20441",
   "metadata": {},
   "source": [
    "# Programming Assignment_8"
   ]
  },
  {
   "cell_type": "code",
   "execution_count": 82,
   "id": "5fadb319",
   "metadata": {},
   "outputs": [
    {
     "name": "stdout",
     "output_type": "stream",
     "text": [
      "[[2, 4, 6], [8, 10, 12], [14, 16, 18]]\n"
     ]
    }
   ],
   "source": [
    "# Write a Python Program to Add Two Matrices\n",
    "\n",
    "x = [[1,2,3],[4,5,6],[7,8,9]]\n",
    "y = [[1,2,3],[4,5,6],[7,8,9]]\n",
    "\n",
    "l = []\n",
    "for i in range(0,len(x)):\n",
    "    l1 = []\n",
    "    for j in range(0,len(x[i])):\n",
    "        r = x[i][j] + y[i][j]\n",
    "        \n",
    "        l1.append(r)\n",
    "        \n",
    "    l.append(l1)\n",
    "    \n",
    "print(l)"
   ]
  },
  {
   "cell_type": "code",
   "execution_count": 105,
   "id": "9a1b6f59",
   "metadata": {},
   "outputs": [
    {
     "name": "stdout",
     "output_type": "stream",
     "text": [
      "[[30, 36, 42], [66, 81, 96], [102, 126, 150]]\n"
     ]
    }
   ],
   "source": [
    "# Write a Python Program to Multiply Two Matrices\n",
    "\n",
    "x = [[1,2,3],[4,5,6],[7,8,9]]\n",
    "y = [[1,2,3],[4,5,6],[7,8,9]]\n",
    "\n",
    "l = []\n",
    "for i in range(0,len(x)):\n",
    "    \n",
    "    l1 = []\n",
    "    \n",
    "    for j in range(0,len(x[i])):\n",
    "        \n",
    "        s = 0\n",
    "        \n",
    "        for k in range(0,len(y)):\n",
    "        \n",
    "            s = s + x[i][k]*y[k][j]\n",
    "            \n",
    "        \n",
    "        l1.append(s)\n",
    "        \n",
    "    l.append(l1)\n",
    "\n",
    "print(l)\n",
    "\n"
   ]
  },
  {
   "cell_type": "code",
   "execution_count": 10,
   "id": "48730c7a",
   "metadata": {},
   "outputs": [
    {
     "name": "stdout",
     "output_type": "stream",
     "text": [
      "[[1, 4, 7], [2, 5, 8], [3, 6, 9]]\n"
     ]
    }
   ],
   "source": [
    "# Write a Python Program to Transpose a Matrix\n",
    "\n",
    "m = [[1,2,3],\n",
    "     [4,5,6],\n",
    "     [7,8,9]]\n",
    "l=[]\n",
    "for i in range (0,3):\n",
    "    l1 = []\n",
    "    for j in range (0,3):\n",
    "        l1.append(m[j][i])\n",
    "    l.append(l1)\n",
    "    \n",
    "print(l)"
   ]
  },
  {
   "cell_type": "code",
   "execution_count": 18,
   "id": "e680d366",
   "metadata": {},
   "outputs": [
    {
     "name": "stdout",
     "output_type": "stream",
     "text": [
      "Enter the value of the string : The best platform to learn data science in India is ineuron.\n",
      "India\n",
      "The\n",
      "best\n",
      "data\n",
      "in\n",
      "ineuron.\n",
      "is\n",
      "learn\n",
      "platform\n",
      "science\n",
      "to\n"
     ]
    }
   ],
   "source": [
    "# Write a Python Program to Sort Words in Alphabetic Order\n",
    "\n",
    "\n",
    "def sort_words(s):\n",
    "    s = s.split(\" \")\n",
    "    \n",
    "    for i in range(0,len(s)):\n",
    "        for j in range(i,len(s)):\n",
    "            \n",
    "            if s[i] > s[j]:\n",
    "                s[i] , s[j] = s[j], s[i]\n",
    "    \n",
    "    return s\n",
    "\n",
    "s1 = input(\"Enter the value of the string : \")\n",
    "\n",
    "for k in sort_words(s1):\n",
    "    print(k)"
   ]
  },
  {
   "cell_type": "code",
   "execution_count": 66,
   "id": "ff6dcb5b",
   "metadata": {},
   "outputs": [
    {
     "name": "stdout",
     "output_type": "stream",
     "text": [
      "Enter the value of string : I have joined ineuron; for learning data science, 'with the reccommendation of friends'.\n",
      "I have joined ineuron for learning data science with the reccommendation of friends\n"
     ]
    }
   ],
   "source": [
    "# Write a Python Program to Remove Punctuation From a String\n",
    "\n",
    "\n",
    "import string\n",
    "\n",
    "\n",
    "def remove_punctuation(s):\n",
    "    for i in s:\n",
    "        \n",
    "        if i in string.punctuation:\n",
    "            \n",
    "            s = s.replace(i,\"\")\n",
    "    return s\n",
    "        \n",
    "s1 = input(\"Enter the value of string : \")\n",
    "\n",
    "print(remove_punctuation(s1))\n"
   ]
  },
  {
   "cell_type": "code",
   "execution_count": 48,
   "id": "97fc2279",
   "metadata": {},
   "outputs": [
    {
     "data": {
      "text/plain": [
       "88"
      ]
     },
     "execution_count": 48,
     "metadata": {},
     "output_type": "execute_result"
    }
   ],
   "source": [
    "len(\"I have joined ineuron; for learning data science, 'with the reccommendation of friends'.\")"
   ]
  }
 ],
 "metadata": {
  "kernelspec": {
   "display_name": "Python 3 (ipykernel)",
   "language": "python",
   "name": "python3"
  },
  "language_info": {
   "codemirror_mode": {
    "name": "ipython",
    "version": 3
   },
   "file_extension": ".py",
   "mimetype": "text/x-python",
   "name": "python",
   "nbconvert_exporter": "python",
   "pygments_lexer": "ipython3",
   "version": "3.9.12"
  }
 },
 "nbformat": 4,
 "nbformat_minor": 5
}
