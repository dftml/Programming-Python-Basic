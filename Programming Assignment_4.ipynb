{
 "cells": [
  {
   "cell_type": "markdown",
   "id": "0e3d6af6",
   "metadata": {},
   "source": [
    "# Programming Assignment_4"
   ]
  },
  {
   "cell_type": "code",
   "execution_count": 4,
   "id": "523298d9",
   "metadata": {},
   "outputs": [
    {
     "name": "stdout",
     "output_type": "stream",
     "text": [
      "Enter the value of number : 5\n",
      "120\n"
     ]
    }
   ],
   "source": [
    "# Write a Python Program to Find the Factorial of a Number\n",
    "\n",
    "n = int(input(\"Enter the value of number : \"))\n",
    "m=1\n",
    "for i in range (1,n+1):\n",
    "    m=m*i\n",
    "print(m)"
   ]
  },
  {
   "cell_type": "code",
   "execution_count": 5,
   "id": "8001e660",
   "metadata": {},
   "outputs": [
    {
     "name": "stdout",
     "output_type": "stream",
     "text": [
      "Please enter the number of the multiplication table : 6\n",
      "6 * 1 = 6\n",
      "6 * 2 = 12\n",
      "6 * 3 = 18\n",
      "6 * 4 = 24\n",
      "6 * 5 = 30\n",
      "6 * 6 = 36\n",
      "6 * 7 = 42\n",
      "6 * 8 = 48\n",
      "6 * 9 = 54\n",
      "6 * 10 = 60\n"
     ]
    }
   ],
   "source": [
    "# Write a Python Program to Display the multiplication Table\n",
    "\n",
    "z = int(input(\"Please enter the number of the multiplication table : \"))\n",
    "\n",
    "for i in range(1,11):\n",
    "    k=z*i\n",
    "    print(\"{0} * {1} = {2}\".format(z,i,k))"
   ]
  },
  {
   "cell_type": "code",
   "execution_count": 9,
   "id": "b188aa26",
   "metadata": {},
   "outputs": [
    {
     "name": "stdout",
     "output_type": "stream",
     "text": [
      "Enter the value of length of sequence : 10\n",
      "0, 1, 1, 2, 3, 5, 8, 13, 21, 34, "
     ]
    }
   ],
   "source": [
    "# Write a Python Program to Print the Fibonacci sequence\n",
    "\n",
    "n = int(input(\"Enter the value of length of sequence : \"))\n",
    "a=0\n",
    "b=1\n",
    "for i in range (0, n): \n",
    "    c=a+b\n",
    "    print(a, end = \", \")\n",
    "    a,b = b,c"
   ]
  },
  {
   "cell_type": "code",
   "execution_count": 39,
   "id": "259b8976",
   "metadata": {},
   "outputs": [
    {
     "name": "stdout",
     "output_type": "stream",
     "text": [
      "Enter the number to check Armstrong Number : 1634\n",
      "The number 1634 is a Armstrong Number.\n"
     ]
    }
   ],
   "source": [
    "# Write a Python Program to Check Armstrong Number\n",
    "\n",
    "m = int(input(\"Enter the number to check Armstrong Number : \"))\n",
    "l=[]\n",
    "l.extend(str(m))\n",
    "l\n",
    "\n",
    "add = 0\n",
    "for i in range(0, len(l)):\n",
    "    p = int(l[i])**len(l)\n",
    "    add += p  \n",
    "\n",
    "if add==m:\n",
    "    print(\"The number {0} is a Armstrong Number.\".format(m))\n",
    "\n",
    "else:\n",
    "    print(\"The number {0} is not a Armstrong Number.\".format(m))"
   ]
  },
  {
   "cell_type": "code",
   "execution_count": 1,
   "id": "a9893ed8",
   "metadata": {},
   "outputs": [
    {
     "name": "stdout",
     "output_type": "stream",
     "text": [
      "Enter the value of initial range : 1\n",
      "Enter the value of final range : 1000000\n",
      "1, 2, 3, 4, 5, 6, 7, 8, 9, 153, 370, 371, 407, 1634, 8208, 9474, 54748, 92727, 93084, 548834, "
     ]
    }
   ],
   "source": [
    "# Write a Python Program to Find Armstrong Number in an Interval\n",
    "\n",
    "a = int(input(\"Enter the value of initial range : \"))\n",
    "b = int(input(\"Enter the value of final range : \"))\n",
    "\n",
    "\n",
    "\n",
    "for i in range(a,b):\n",
    "    n=len(str(i))\n",
    "    num =i \n",
    "    add=0\n",
    "    while i > 0:\n",
    "        k = i%10\n",
    "        add = add + k**n\n",
    "        i=i//10\n",
    "        \n",
    "    if add == num:\n",
    "        print(num, end=\", \")"
   ]
  },
  {
   "cell_type": "code",
   "execution_count": 1,
   "id": "b4507663",
   "metadata": {},
   "outputs": [
    {
     "name": "stdout",
     "output_type": "stream",
     "text": [
      "Please enter the natural number : 4\n",
      "The sum of natural number is 10.0.\n"
     ]
    }
   ],
   "source": [
    "# Write a Python Program to Find the Sum of Natural Numbers\n",
    "\n",
    "j = int(input(\"Please enter the natural number : \"))\n",
    "\n",
    "s= j*(j+1)*0.5\n",
    "\n",
    "print(\"The sum of natural number is {0}.\".format(s))"
   ]
  }
 ],
 "metadata": {
  "kernelspec": {
   "display_name": "Python 3 (ipykernel)",
   "language": "python",
   "name": "python3"
  },
  "language_info": {
   "codemirror_mode": {
    "name": "ipython",
    "version": 3
   },
   "file_extension": ".py",
   "mimetype": "text/x-python",
   "name": "python",
   "nbconvert_exporter": "python",
   "pygments_lexer": "ipython3",
   "version": "3.9.12"
  }
 },
 "nbformat": 4,
 "nbformat_minor": 5
}
