{
 "cells": [
  {
   "cell_type": "markdown",
   "id": "96e3f691",
   "metadata": {},
   "source": [
    "# Programming Assignment_5"
   ]
  },
  {
   "cell_type": "code",
   "execution_count": 8,
   "id": "27dad7b0",
   "metadata": {},
   "outputs": [
    {
     "name": "stdout",
     "output_type": "stream",
     "text": [
      "Enter the value of first number : 36\n",
      "Enter the value of second number : 24\n",
      "The LCM of 36 & 24 is 72.\n"
     ]
    }
   ],
   "source": [
    "# Write a Python Program to Find LCM\n",
    "\n",
    "a = int(input(\"Enter the value of first number : \"))\n",
    "b = int(input(\"Enter the value of second number : \"))\n",
    "\n",
    "if a<b:\n",
    "    i=b\n",
    "else:\n",
    "    i=a\n",
    "    \n",
    "while True:\n",
    "    if i%a==0 and i%b==0:\n",
    "        m=i\n",
    "        break\n",
    "    i=i+1\n",
    "print(f\"The LCM of {a} & {b} is {m}.\")"
   ]
  },
  {
   "cell_type": "code",
   "execution_count": 43,
   "id": "43bcac28",
   "metadata": {},
   "outputs": [
    {
     "name": "stdout",
     "output_type": "stream",
     "text": [
      "Enter the value of first number : 36\n",
      "Enter the value of second number : 24\n",
      "The HCF of 36 & 24 is 12.\n"
     ]
    }
   ],
   "source": [
    "# Write a Python Program to Find HCF\n",
    "\n",
    "a = int(input(\"Enter the value of first number : \"))\n",
    "b = int(input(\"Enter the value of second number : \"))\n",
    "\n",
    "#to check greater number\n",
    "if a>b:\n",
    "    n=b\n",
    "else:\n",
    "    n=a\n",
    "#finding highest divisible number\n",
    "for i in range(1,n+1):\n",
    "    if a%i==0 and b%i==0:\n",
    "        m = i\n",
    "print(f\"The HCF of {a} & {b} is {m}.\")"
   ]
  },
  {
   "cell_type": "code",
   "execution_count": 15,
   "id": "8776fb52",
   "metadata": {},
   "outputs": [
    {
     "name": "stdout",
     "output_type": "stream",
     "text": [
      "Enter the value of decimal : 100\n",
      "The Deimal to Binary conversion of 100 is 1100100.\n",
      "The Deimal to Octal conversion of 100 is 144.\n",
      "The Deimal to Hexadecimal conversion of 100 is 64.\n"
     ]
    }
   ],
   "source": [
    "# Write a Python Program to Convert Decimal to Binary, Octal and Hexadecimal\n",
    "\n",
    "a = int(input(\"Enter the value of decimal : \"))\n",
    "a1, a2, a3 = a, a, a\n",
    "\n",
    "\n",
    "# Binary Conversion\n",
    "\n",
    "s1=\"\"\n",
    "while a>0:\n",
    "    k=a%2\n",
    "    s1=s1+str(k)\n",
    "    a//=2\n",
    "print(\"The Deimal to Binary conversion of {0} is {1}.\".format(a1,s1[::-1]))\n",
    "\n",
    "\n",
    "# Octal Conversion\n",
    "s2=\"\"\n",
    "while a1>0:\n",
    "    k=a1%8\n",
    "    s2=s2+str(k)\n",
    "    a1//=8\n",
    "print(\"The Deimal to Octal conversion of {0} is {1}.\".format(a2,s2[::-1]))\n",
    "\n",
    "\n",
    "# Hexadecimal Conversion\n",
    "\n",
    "s3=\"\"\n",
    "while a2>0:\n",
    "    k=a2%16\n",
    "    s3=s3+str(k)\n",
    "    a2//=16\n",
    "print(\"The Deimal to Hexadecimal conversion of {0} is {1}.\".format(a3,s3[::-1]))\n",
    "\n"
   ]
  },
  {
   "cell_type": "code",
   "execution_count": 25,
   "id": "5c5e094b",
   "metadata": {},
   "outputs": [
    {
     "name": "stdout",
     "output_type": "stream",
     "text": [
      "Enter the ASCII character : $\n",
      "The ASCII value of $ is 36\n"
     ]
    }
   ],
   "source": [
    "# Write a Python Program To Find ASCII value of a character\n",
    "\n",
    "c = input(\"Enter the ASCII character : \")\n",
    "\n",
    "z = ord(c)\n",
    "print(\"The ASCII value of {0} is {1}\".format(c,z))"
   ]
  },
  {
   "cell_type": "code",
   "execution_count": 34,
   "id": "f241d49d",
   "metadata": {},
   "outputs": [
    {
     "name": "stdout",
     "output_type": "stream",
     "text": [
      "Mode of Calculation\n",
      "Press 1 for Addition\n",
      "Press 2 for Multiplication\n",
      "Press 3 for Subtraction\n",
      "Press 4 for Division\n",
      "Enter the mode of  Calculator : 2\n",
      "\n",
      "\n",
      "Enter the first number : 23\n",
      "Enter the second number : 5\n",
      "23.0 * 5.0 = 115.0\n"
     ]
    }
   ],
   "source": [
    "# Write a Python Program to Make a Simple Calculator with 4 basic mathematical operations\n",
    "\n",
    "\n",
    "print(\"Mode of Calculation\")\n",
    "print(\"Press 1 for Addition\")\n",
    "print(\"Press 2 for Multiplication\")\n",
    "print(\"Press 3 for Subtraction\")\n",
    "print(\"Press 4 for Division\")\n",
    "\n",
    "\n",
    "c = int(input(\"Enter the mode of  Calculator : \"))\n",
    "\n",
    "print(\"\\n\")\n",
    "a = float(input(\"Enter the first number : \"))\n",
    "b = float(input(\"Enter the second number : \"))\n",
    "\n",
    "\n",
    "\n",
    "if (c==1):\n",
    "    print(f\"{a} + {b} = {a+b}\")\n",
    "    \n",
    "elif (c==2):\n",
    "    print(f\"{a} * {b} = {a*b}\")\n",
    "    \n",
    "elif (c==3):\n",
    "    print(f\"{a} - {b} = {a-b}\")\n",
    "\n",
    "elif (c==4):\n",
    "    print(f\"{a} / {b} = {a/b}\")\n",
    "    \n",
    "else:\n",
    "    print(\"Choose the correct Mode \")"
   ]
  }
 ],
 "metadata": {
  "kernelspec": {
   "display_name": "Python 3 (ipykernel)",
   "language": "python",
   "name": "python3"
  },
  "language_info": {
   "codemirror_mode": {
    "name": "ipython",
    "version": 3
   },
   "file_extension": ".py",
   "mimetype": "text/x-python",
   "name": "python",
   "nbconvert_exporter": "python",
   "pygments_lexer": "ipython3",
   "version": "3.9.12"
  }
 },
 "nbformat": 4,
 "nbformat_minor": 5
}
