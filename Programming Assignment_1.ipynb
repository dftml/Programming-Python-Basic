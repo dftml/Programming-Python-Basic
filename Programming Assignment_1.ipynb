{
 "cells": [
  {
   "cell_type": "markdown",
   "id": "1cf371d4",
   "metadata": {},
   "source": [
    "#   Programming Assignment_1"
   ]
  },
  {
   "cell_type": "code",
   "execution_count": 1,
   "id": "8fd0064b",
   "metadata": {},
   "outputs": [
    {
     "name": "stdout",
     "output_type": "stream",
     "text": [
      "Hello Python\n"
     ]
    }
   ],
   "source": [
    "# Write a Python program to print \"Hello Python\"?\n",
    "\n",
    "print(\"Hello Python\")"
   ]
  },
  {
   "cell_type": "code",
   "execution_count": 3,
   "id": "4798734b",
   "metadata": {},
   "outputs": [
    {
     "name": "stdout",
     "output_type": "stream",
     "text": [
      "Enter the value of first number : 3\n",
      "Enter the value of second number : 4\n",
      "Addition of two number is 7\n",
      "Division of two number is 0.75\n"
     ]
    }
   ],
   "source": [
    "#  Write a Python program to do arithmetical operations addition and division.?\n",
    "\n",
    "a = int(input(\"Enter the value of first number : \"))\n",
    "b=int(input(\"Enter the value of second number : \"))\n",
    "\n",
    "c=a+b\n",
    "print(\"Addition of two number is\", c)\n",
    "d=a/b\n",
    "print(\"Division of two number is\", d)"
   ]
  },
  {
   "cell_type": "code",
   "execution_count": 5,
   "id": "0d64e845",
   "metadata": {},
   "outputs": [
    {
     "name": "stdout",
     "output_type": "stream",
     "text": [
      "Enter the value of base of traingle (in cm) : 23\n",
      "Enter the value of height of traingle (in cm): 12\n",
      "138.0\n"
     ]
    }
   ],
   "source": [
    "#Write a Python program to find the area of a triangle?\n",
    "\n",
    "b=int(input(\"Enter the value of base of traingle (in cm) : \"))\n",
    "h=int(input(\"Enter the value of height of traingle (in cm): \"))\n",
    "c=0.5*b*h\n",
    "print(c)"
   ]
  },
  {
   "cell_type": "code",
   "execution_count": 16,
   "id": "6973dc1d",
   "metadata": {},
   "outputs": [
    {
     "name": "stdout",
     "output_type": "stream",
     "text": [
      "Enter the value of first variable : 3\n",
      "Enter the value of second ariable : 7\n",
      "After Swapping\n",
      "Value of first variable :  7\n",
      "Value of second variable :  3\n"
     ]
    }
   ],
   "source": [
    "#Write a Python program to swap two variables?\n",
    "\n",
    "a=int(input(\"Enter the value of first variable : \"))\n",
    "b=int(input(\"Enter the value of second ariable : \"))\n",
    "\n",
    "a,b=b,a\n",
    "print(\"After Swapping\")\n",
    "print(\"Value of first variable : \", a)\n",
    "print(\"Value of second variable : \", b)"
   ]
  },
  {
   "cell_type": "code",
   "execution_count": 10,
   "id": "857329d7",
   "metadata": {},
   "outputs": [
    {
     "name": "stdout",
     "output_type": "stream",
     "text": [
      "16\n"
     ]
    }
   ],
   "source": [
    "#Write a Python program to generate a random number?\n",
    "\n",
    "import random\n",
    "a=random.randint(6,30)\n",
    "print(a)"
   ]
  },
  {
   "cell_type": "code",
   "execution_count": 19,
   "id": "401cd574",
   "metadata": {},
   "outputs": [
    {
     "name": "stdout",
     "output_type": "stream",
     "text": [
      "[16, 14, 29, 30, 19, 9, 18, 11, 15, 11]\n"
     ]
    }
   ],
   "source": [
    "import random\n",
    "l=[]\n",
    "for i in range(0,10):\n",
    "    n=random.randint(2,30)\n",
    "    l.append(n)\n",
    "print(l)\n",
    "    "
   ]
  },
  {
   "cell_type": "code",
   "execution_count": null,
   "id": "5e703616",
   "metadata": {},
   "outputs": [],
   "source": []
  },
  {
   "cell_type": "code",
   "execution_count": null,
   "id": "8d8fa7cd",
   "metadata": {},
   "outputs": [],
   "source": []
  }
 ],
 "metadata": {
  "kernelspec": {
   "display_name": "Python 3 (ipykernel)",
   "language": "python",
   "name": "python3"
  },
  "language_info": {
   "codemirror_mode": {
    "name": "ipython",
    "version": 3
   },
   "file_extension": ".py",
   "mimetype": "text/x-python",
   "name": "python",
   "nbconvert_exporter": "python",
   "pygments_lexer": "ipython3",
   "version": "3.9.12"
  }
 },
 "nbformat": 4,
 "nbformat_minor": 5
}
