{
 "cells": [
  {
   "cell_type": "markdown",
   "id": "785f0bec",
   "metadata": {},
   "source": [
    "# Programming Assignment_13"
   ]
  },
  {
   "cell_type": "raw",
   "id": "396ada21",
   "metadata": {},
   "source": [
    "Write a program that calculates and prints the value according to the given formula:\n",
    "Q = Square root of [(2 * C * D)/H]\n",
    "Following are the fixed values of C and H:\n",
    "C is 50. H is 30.\n",
    "D is the variable whose values should be input to your program in a comma-separated\n",
    "sequence.\n",
    "Example\n",
    "Let us assume the following comma separated input sequence is given to the program:\n",
    "100,150,180\n",
    "The output of the program should be:\n",
    "18,22,24"
   ]
  },
  {
   "cell_type": "code",
   "execution_count": 16,
   "id": "d3943d72",
   "metadata": {},
   "outputs": [
    {
     "name": "stdout",
     "output_type": "stream",
     "text": [
      "Enter the value of D : 100\n",
      "The value of Q is 18.0.\n"
     ]
    }
   ],
   "source": [
    "C = 50\n",
    "H =30\n",
    "\n",
    "D = float(input(\"Enter the value of D : \"))\n",
    "\n",
    "def formula(D):\n",
    "    \n",
    "    k = (2*C*D)/H\n",
    "    z = k**0.5\n",
    "    Q = round(z,0)\n",
    "    \n",
    "    return Q\n",
    "    \n",
    "    \n",
    "print(f\"The value of Q is {formula(D)}.\")"
   ]
  },
  {
   "cell_type": "raw",
   "id": "19b1e093",
   "metadata": {},
   "source": [
    "Write a program which takes 2 digits, X,Y as input and generates a 2-dimensional array. The\n",
    "element value in the i-th row and j-th column of the array should be i*j.\n",
    "Note: i=0,1.., X-1; j=0,1,¡Y-1.\n",
    "Example\n",
    "Suppose the following inputs are given to the program:\n",
    "3,5\n",
    "Then, the output of the program should be:\n",
    "[[0, 0, 0, 0, 0], [0, 1, 2, 3, 4], [0, 2, 4, 6, 8]]"
   ]
  },
  {
   "cell_type": "code",
   "execution_count": 20,
   "id": "a9488f3b",
   "metadata": {},
   "outputs": [
    {
     "name": "stdout",
     "output_type": "stream",
     "text": [
      "Enter the value of Row and Column of 2-dimensional array : \n",
      "Row 3\n",
      "Column 5\n",
      "Generated 2-dimensional array is : [[0, 0, 0, 0, 0], [0, 1, 2, 3, 4], [0, 2, 4, 6, 8]]\n"
     ]
    }
   ],
   "source": [
    "\n",
    "print(\"Enter the value of Row and Column of 2-dimensional array : \")\n",
    "\n",
    "X1 = int(input(\"Row \"))\n",
    "Y1 = int(input(\"Column \"))\n",
    "\n",
    "\n",
    "\n",
    "def matrix(X,Y):\n",
    "    l=[]\n",
    "    for i in range(0,X):\n",
    "        l1=[]\n",
    "        for j in range(0, Y):\n",
    "        \n",
    "            s = i*j\n",
    "           \n",
    "            l1.append(s)\n",
    "\n",
    "        l.append(l1)\n",
    "    \n",
    "    return l\n",
    "    \n",
    "print(f\"Generated 2-dimensional array is : {matrix(X1,Y1)}\")"
   ]
  },
  {
   "cell_type": "raw",
   "id": "fee812c9",
   "metadata": {},
   "source": [
    "Write a program that accepts a comma separated sequence of words as input and prints the\n",
    "words in a comma-separated sequence after sorting them alphabetically.\n",
    "Suppose the following input is supplied to the program:\n",
    "without,hello,bag,world\n",
    "Then, the output should be:\n",
    "bag,hello,without,world"
   ]
  },
  {
   "cell_type": "code",
   "execution_count": 120,
   "id": "ea6a83a9",
   "metadata": {},
   "outputs": [
    {
     "name": "stdout",
     "output_type": "stream",
     "text": [
      "Enter the Stringwithout,hello,bag,world\n",
      "Enter the Spearator on string,\n",
      "bag,hello,without,world\n"
     ]
    }
   ],
   "source": [
    "s1 = input(\"Enter the String\")\n",
    "k1 = input(\"Enter the Spearator on string\")\n",
    "\n",
    "def stringsort(s,k):\n",
    "    \n",
    "    l = s.split(k)\n",
    "    \n",
    "    for i in range(0,len(l)):\n",
    "        for j in range(i,len(l)):\n",
    "            if l[i]>l[j]:\n",
    "                l[i],l[j] = l[j],l[i]\n",
    "                \n",
    "    m = \",\".join(l)\n",
    "    return m\n",
    "    \n",
    "print(stringsort(s1,k1))"
   ]
  },
  {
   "cell_type": "raw",
   "id": "baa6d928",
   "metadata": {},
   "source": [
    "Write a program that accepts a sequence of whitespace separated words as input and prints\n",
    "the words after removing all duplicate words and sorting them alphanumerically.\n",
    "Suppose the following input is supplied to the program:\n",
    "hello world and practice makes perfect and hello world again\n",
    "Then, the output should be:\n",
    "again and hello makes perfect practice world"
   ]
  },
  {
   "cell_type": "code",
   "execution_count": 15,
   "id": "214c8ff4",
   "metadata": {},
   "outputs": [
    {
     "name": "stdout",
     "output_type": "stream",
     "text": [
      "again and hello makes perfect practice world\n"
     ]
    }
   ],
   "source": [
    "s1 = \"hello world and practice makes perfect and hello world again\"\n",
    "k1 = \" \"\n",
    "\n",
    "def distinct(s,k):\n",
    "    \n",
    "    l = s.split(k)\n",
    "    a1 = set(l)\n",
    "    a2 = list(a1)\n",
    "    \n",
    "    for i in range(0,len(a2)):\n",
    "        for j in range(i,len(a2)):\n",
    "            \n",
    "            if a2[i]>a2[j]:\n",
    "                \n",
    "                a2[i],a2[j] = a2[j],a2[i]\n",
    "                \n",
    "    a3 = \" \".join(a2)\n",
    "    return a3\n",
    "    \n",
    "print(distinct(s1,k1))"
   ]
  },
  {
   "cell_type": "raw",
   "id": "165f8676",
   "metadata": {},
   "source": [
    "Write a program that accepts a sentence and calculate the number of letters and digits.\n",
    "Suppose the following input is supplied to the program:\n",
    "hello world! 123\n",
    "Then, the output should be:\n",
    "LETTERS 10\n",
    "DIGITS 3"
   ]
  },
  {
   "cell_type": "code",
   "execution_count": 19,
   "id": "bd2e39f7",
   "metadata": {},
   "outputs": [
    {
     "name": "stdout",
     "output_type": "stream",
     "text": [
      "Please enter the sentence : hello world! 123\n",
      "LETTERS 10\n",
      "DIGITS 3\n"
     ]
    }
   ],
   "source": [
    "import string   # contains alphabetic and number string\n",
    "\n",
    "def count_letter(s):\n",
    "    s1 = 0\n",
    "    for i in range(0,len(s)):\n",
    "        \n",
    "        if s[i] in string.ascii_letters:\n",
    "            s1 = s1 +1\n",
    "            \n",
    "    return s1\n",
    "\n",
    "def count_digit(s):\n",
    "    s2 = 0\n",
    "    for i in range(0,len(s)):\n",
    "        \n",
    "        if s[i] in string.digits:\n",
    "            s2 = s2 +1\n",
    "            \n",
    "    return s2\n",
    "\n",
    "sentence = input(\"Please enter the sentence : \")\n",
    "\n",
    "print(f\"LETTERS {count_letter(sentence)}\")\n",
    "print(f\"DIGITS {count_digit(sentence)}\")"
   ]
  },
  {
   "cell_type": "raw",
   "id": "d005ea79",
   "metadata": {},
   "source": [
    "A website requires the users to input username and password to register. Write a program to\n",
    "check the validity of password input by users.\n",
    "Following are the criteria for checking the password:\n",
    "1. At least 1 letter between [a-z]\n",
    "2. At least 1 number between [0-9]\n",
    "1. At least 1 letter between [A-Z]\n",
    "3. At least 1 character from [$#@]\n",
    "4. Minimum length of transaction password: 6\n",
    "5. Maximum length of transaction password: 12\n",
    "Your program should accept a sequence of comma separated passwords and will check them\n",
    "according to the above criteria. Passwords that match the criteria are to be printed, each\n",
    "separated by a comma.\n",
    "Example\n",
    "If the following passwords are given as input to the program:\n",
    "ABd1234@1,a F1#,2w3E*,2We3345\n",
    "Then, the output of the program should be:\n",
    "ABd1234@1"
   ]
  },
  {
   "cell_type": "code",
   "execution_count": 6,
   "id": "281d30fe",
   "metadata": {},
   "outputs": [
    {
     "name": "stdout",
     "output_type": "stream",
     "text": [
      "Please enter the Password : ABd1234@1,a F1#,2w3E*,2We3345\n",
      "ABd1234@1\n"
     ]
    }
   ],
   "source": [
    "import string\n",
    "\n",
    "\n",
    "\n",
    "def password(s):\n",
    "    \n",
    "    l = s.split(\",\")\n",
    "    \n",
    "    for j in range(0, len(l)):\n",
    "    \n",
    "        s1 = 0 \n",
    "        s2 = 0\n",
    "        s3 = 0\n",
    "        s4 = 0\n",
    "        for i in l[j]:\n",
    "            \n",
    "            if i in string.ascii_lowercase: \n",
    "                s1 = s1 + 4\n",
    "            \n",
    "            elif i in string.digits:\n",
    "                s2 = s2 + 4\n",
    "            \n",
    "            elif i in string.ascii_uppercase:\n",
    "                s3 = s3 + 4\n",
    "                \n",
    "            elif i in string.punctuation:\n",
    "                s4 = s4 +4\n",
    "            \n",
    "        if s1 > 0 and s2 >0 and s3 >0 and s4>0:\n",
    "            if 12 >= len(l[j]) >=6:\n",
    "                yield l[j]\n",
    "                \n",
    "                \n",
    "pin = input(\"Please enter the Password : \")\n",
    "l1 = []\n",
    "for j in password(pin):\n",
    "    l1.append(j)\n",
    "k = \",\".join(l1)\n",
    "print(k)"
   ]
  }
 ],
 "metadata": {
  "kernelspec": {
   "display_name": "Python 3 (ipykernel)",
   "language": "python",
   "name": "python3"
  },
  "language_info": {
   "codemirror_mode": {
    "name": "ipython",
    "version": 3
   },
   "file_extension": ".py",
   "mimetype": "text/x-python",
   "name": "python",
   "nbconvert_exporter": "python",
   "pygments_lexer": "ipython3",
   "version": "3.9.12"
  }
 },
 "nbformat": 4,
 "nbformat_minor": 5
}
