{
 "cells": [
  {
   "cell_type": "markdown",
   "id": "e524a7c5",
   "metadata": {},
   "source": [
    "# Programming Assignment_10 "
   ]
  },
  {
   "cell_type": "code",
   "execution_count": 1,
   "id": "d3bef583",
   "metadata": {},
   "outputs": [
    {
     "name": "stdout",
     "output_type": "stream",
     "text": [
      "237\n"
     ]
    }
   ],
   "source": [
    "# Write a Python program to find sum of elements in list\n",
    "\n",
    "l = [1,2,4,5,89,56,23,45,12]\n",
    "s=0\n",
    "for i in l:\n",
    "    s = s +i\n",
    "    \n",
    "print(s)"
   ]
  },
  {
   "cell_type": "code",
   "execution_count": 3,
   "id": "f498f351",
   "metadata": {},
   "outputs": [
    {
     "name": "stdout",
     "output_type": "stream",
     "text": [
      "210802176\n"
     ]
    }
   ],
   "source": [
    "# Write a Python program to  Multiply all numbers in the list\n",
    "\n",
    "l = [23,34,12,6,4,3,4,78]\n",
    "m = 1\n",
    "for i in l:\n",
    "    m = m*i\n",
    "\n",
    "print(m)"
   ]
  },
  {
   "cell_type": "code",
   "execution_count": 9,
   "id": "26c511ef",
   "metadata": {},
   "outputs": [
    {
     "name": "stdout",
     "output_type": "stream",
     "text": [
      "5\n"
     ]
    }
   ],
   "source": [
    "# Write a Python program to find smallest number in a list\n",
    "\n",
    "l = [12,23,45,5,67,23,18,24]\n",
    "\n",
    "# g is the smaller element in a list\n",
    "g = l[0]\n",
    "\n",
    "\n",
    "# check g is smaller element or not\n",
    "for i in l:\n",
    "    if g > i:\n",
    "        g = i\n",
    "print(g)"
   ]
  },
  {
   "cell_type": "code",
   "execution_count": 13,
   "id": "9fa79c89",
   "metadata": {},
   "outputs": [
    {
     "name": "stdout",
     "output_type": "stream",
     "text": [
      "67\n"
     ]
    }
   ],
   "source": [
    "# Write a Python program to find largest number in a list\n",
    "\n",
    "l = [12,23,45,5,67,23,18,24]\n",
    "\n",
    "# g is the greater element in a list\n",
    "g = l[0]\n",
    "\n",
    "# check g is largest element or not\n",
    "for i in l:\n",
    "    if g < i:\n",
    "        g = i\n",
    "print(g)"
   ]
  },
  {
   "cell_type": "code",
   "execution_count": 9,
   "id": "42e9cb90",
   "metadata": {},
   "outputs": [
    {
     "name": "stdout",
     "output_type": "stream",
     "text": [
      "45\n"
     ]
    }
   ],
   "source": [
    "# Write a Python program to find second largest number in a list\n",
    "\n",
    "l = [12,23,45,5,67,29,18,24]\n",
    "\n",
    "# sort in descending order\n",
    "\n",
    "for i in range(0,len(l)):\n",
    "    for j in range(0,len(l)):\n",
    "        if l[i]>l[j]:\n",
    "            l[i],l[j] = l[j], l[i]     \n",
    "\n",
    "print(l[1])"
   ]
  },
  {
   "cell_type": "code",
   "execution_count": 3,
   "id": "c0e23804",
   "metadata": {},
   "outputs": [
    {
     "name": "stdout",
     "output_type": "stream",
     "text": [
      "Enter the value of the N largest elements : 3\n",
      "67,  45,  29,  "
     ]
    }
   ],
   "source": [
    "# Write a Python program to find N largest elements from a list\n",
    "\n",
    "l = [12,23,45,5,67,29,18,24]\n",
    "n = int(input(\"Enter the value of the N largest elements : \"))\n",
    "\n",
    "# sort in descending order\n",
    "\n",
    "for i in range(0,len(l)):\n",
    "    for j in range(0,len(l)):\n",
    "        if l[i]>l[j]:\n",
    "            l[i],l[j] = l[j], l[i]     \n",
    "\n",
    "for k in range(0,n):\n",
    "    print(l[k], end = \",  \")"
   ]
  },
  {
   "cell_type": "code",
   "execution_count": 10,
   "id": "a278b201",
   "metadata": {},
   "outputs": [
    {
     "name": "stdout",
     "output_type": "stream",
     "text": [
      "6, 34, 2, 56, "
     ]
    }
   ],
   "source": [
    "# Write a Python program to print even numbers in a list\n",
    "\n",
    "l = [6, 67, 34, 2, 89, 56, 21, 45]\n",
    "\n",
    "for i in l:\n",
    "    if i%2==0:\n",
    "        print(i, end = \", \")"
   ]
  },
  {
   "cell_type": "code",
   "execution_count": 11,
   "id": "2a361551",
   "metadata": {},
   "outputs": [
    {
     "name": "stdout",
     "output_type": "stream",
     "text": [
      "67, 89, 21, 45, "
     ]
    }
   ],
   "source": [
    "# Write a Python program to print odd numbers in a List\n",
    "\n",
    "l = [6, 67, 34, 2, 89, 56, 21, 45]\n",
    "\n",
    "for i in l:\n",
    "    if i%2==1:\n",
    "        print(i, end = \", \")\n"
   ]
  },
  {
   "cell_type": "code",
   "execution_count": 23,
   "id": "9b2482d9",
   "metadata": {},
   "outputs": [
    {
     "name": "stdout",
     "output_type": "stream",
     "text": [
      "['hemant', 123, (45, 78, 49, 'ineuron'), 'sudh', 34, 78]\n"
     ]
    }
   ],
   "source": [
    "# Write a Python program to Cloning or Copying a list\n",
    "\n",
    "l = [\"hemant\", 123, (45, 78, 49, \"ineuron\"), \"sudh\", 34, 78]\n",
    "l1=[]\n",
    "\n",
    "for i in range(0,6):\n",
    "    l1.append(l[i])\n",
    "print(l1)"
   ]
  },
  {
   "cell_type": "code",
   "execution_count": 49,
   "id": "1d451dc0",
   "metadata": {},
   "outputs": [
    {
     "name": "stdout",
     "output_type": "stream",
     "text": [
      "Count occurrences of an element in a list : \n",
      "3 = 2 times, 7 = 4 times, 5 = 1 times, 6 = 1 times, 3 = 1 times, 7 = 4 times, 4 = 1 times, "
     ]
    }
   ],
   "source": [
    "# Write a Python program to Count occurrences of an element in a list\n",
    "\n",
    "l = [3,7,5,6,3,7,4,8,3,7,2,3,2,7]\n",
    "l1 = set(l)\n",
    "l2 = list(l1)\n",
    "print(\"Count occurrences of an element in a list : \")\n",
    "for i in range(0,len(l1)):\n",
    "    s=0\n",
    "    for j in range(0,len(l)):\n",
    "        if l2[i] == l[j]:\n",
    "            s=s+1\n",
    "    \n",
    "    print(f\"{l[i]} = {s} times\", end = \", \")"
   ]
  },
  {
   "cell_type": "code",
   "execution_count": 8,
   "id": "10ac1f30",
   "metadata": {},
   "outputs": [
    {
     "name": "stdout",
     "output_type": "stream",
     "text": [
      "[3, 56, 34, 38]\n"
     ]
    }
   ],
   "source": [
    "# Write a Python program to Remove empty List from List\n",
    "\n",
    "l = [3,56,[],34,[],38,[]]\n",
    "\n",
    "for i in l:\n",
    "    if [] in l:\n",
    "        l.remove([])\n",
    "        \n",
    "print(l)"
   ]
  }
 ],
 "metadata": {
  "kernelspec": {
   "display_name": "Python 3 (ipykernel)",
   "language": "python",
   "name": "python3"
  },
  "language_info": {
   "codemirror_mode": {
    "name": "ipython",
    "version": 3
   },
   "file_extension": ".py",
   "mimetype": "text/x-python",
   "name": "python",
   "nbconvert_exporter": "python",
   "pygments_lexer": "ipython3",
   "version": "3.9.12"
  }
 },
 "nbformat": 4,
 "nbformat_minor": 5
}
