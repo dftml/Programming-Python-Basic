{
 "cells": [
  {
   "cell_type": "raw",
   "id": "f35ceb5a",
   "metadata": {},
   "source": [
    "Question1\n",
    "\n",
    "Write a function that takes a list and a number as arguments. Add the number to the end of the list, then remove \n",
    "the first element of the list. The function should then return the updated list.\n",
    "\n",
    "Examples\n",
    "\n",
    "next_in_line([5, 6, 7, 8, 9], 1) ➞ [6, 7, 8, 9, 1]\n",
    "\n",
    "next_in_line([7, 6, 3, 23, 17], 10) ➞ [6, 3, 23, 17, 10]\n",
    "\n",
    "next_in_line([1, 10, 20, 42 ], 6) ➞ [10, 20, 42, 6]\n",
    "\n",
    "next_in_line([], 6) ➞ \"No list has been selected\""
   ]
  },
  {
   "cell_type": "code",
   "execution_count": 20,
   "id": "db6ce4ff",
   "metadata": {},
   "outputs": [
    {
     "name": "stdout",
     "output_type": "stream",
     "text": [
      "Please enter the list : [7, 6, 3, 23, 17]\n",
      "Please enter the argument number : 10\n",
      "next_in_line([7, 6, 3, 23, 17],10) ➞ [6, 3, 23, 17, 10]\n"
     ]
    }
   ],
   "source": [
    "def next_in_line(l,n):\n",
    "    \n",
    "    try :\n",
    "        if l == []:\n",
    "            raise Exception(\"\\\"No list has been selected\\\"\")\n",
    "                \n",
    "    except Exception as e:\n",
    "        return e\n",
    "        \n",
    "    else:\n",
    "        l1 = []\n",
    "        for i in range(len(l)-1):\n",
    "            l1.append(l[i+1])\n",
    "            \n",
    "        return l1+[n]\n",
    "\n",
    "    \n",
    "l = eval(input(\"Please enter the list : \"))\n",
    "n = int(input(\"Please enter the argument number : \"))\n",
    "print(f\"next_in_line({l},{n}) ➞ {next_in_line(l,n)}\")"
   ]
  },
  {
   "cell_type": "raw",
   "id": "59293345",
   "metadata": {},
   "source": [
    "Question2\n",
    "Create the function that takes a list of dictionaries and returns the sum of people's budgets.\n",
    "\n",
    "Examples\n",
    "\n",
    "get_budgets([\n",
    "  { \"name\": \"John\", \"age\": 21, \"budget\": 23000 },\n",
    "  { \"name\": \"Steve\",  \"age\": 32, \"budget\": 40000 },\n",
    "  { \"name\": \"Martin\",  \"age\": 16, \"budget\": 2700 }\n",
    "]) ➞ 65700\n",
    "\n",
    "get_budgets([\n",
    "  { \"name\": \"John\",  \"age\": 21, \"budget\": 29000 },\n",
    "  { \"name\": \"Steve\",  \"age\": 32, \"budget\": 32000 },\n",
    "  { \"name\": \"Martin\",  \"age\": 16, \"budget\": 1600 }\n",
    "]) ➞ 62600"
   ]
  },
  {
   "cell_type": "code",
   "execution_count": 144,
   "id": "c616fa70",
   "metadata": {},
   "outputs": [
    {
     "name": "stdout",
     "output_type": "stream",
     "text": [
      "62600\n"
     ]
    }
   ],
   "source": [
    "import pandas as pd\n",
    "    \n",
    "df = pd.DataFrame(l)\n",
    "\n",
    "l = [\n",
    "  { \"name\": \"John\",  \"age\": 21, \"budget\": 29000 },\n",
    "  { \"name\": \"Steve\",  \"age\": 32, \"budget\": 32000 },\n",
    "  { \"name\": \"Martin\",  \"age\": 16, \"budget\": 1600 }\n",
    "]\n",
    "\n",
    "from functools import reduce\n",
    "\n",
    "print(reduce(lambda x,y: x+y,df['budget']))"
   ]
  },
  {
   "cell_type": "code",
   "execution_count": 145,
   "id": "8fa50775",
   "metadata": {},
   "outputs": [
    {
     "name": "stdout",
     "output_type": "stream",
     "text": [
      "62600\n"
     ]
    }
   ],
   "source": [
    "def get_budgets(l):\n",
    "    s = 0\n",
    "    for i in l:\n",
    "        s += i['budget']\n",
    "        \n",
    "    return s\n",
    "        \n",
    "print(get_budgets(l))"
   ]
  },
  {
   "cell_type": "code",
   "execution_count": null,
   "id": "90f973fe",
   "metadata": {},
   "outputs": [],
   "source": [
    "Question3\n",
    "\n",
    "Create a function that takes a string and returns a string with its letters in alphabetical order.\n",
    "\n",
    "Examples\n",
    "\n",
    "alphabet_soup(\"hello\") ➞ \"ehllo\"\n",
    "\n",
    "alphabet_soup(\"edabit\") ➞ \"abdeit\"\n",
    "\n",
    "alphabet_soup(\"hacker\") ➞ \"acehkr\"\n",
    "\n",
    "alphabet_soup(\"geek\") ➞ \"eegk\"\n",
    "\n",
    "alphabet_soup(\"javascript\") ➞ \"aacijprstv\""
   ]
  },
  {
   "cell_type": "code",
   "execution_count": 60,
   "id": "f3d836fe",
   "metadata": {},
   "outputs": [
    {
     "name": "stdout",
     "output_type": "stream",
     "text": [
      "Please enter the string : javascript\n",
      "alphabet_soup(\"javascript\") ➞ \"aacijprstv\"\n"
     ]
    }
   ],
   "source": [
    "def alphabet_soup(s):\n",
    "    s = list(s)\n",
    "    for i in range(0,len(s)):\n",
    "        for j in range(0,len(s)):\n",
    "            if s[i]<s[j]:\n",
    "                s[i],s[j] = s[j],s[i]\n",
    "    l = \"\"            \n",
    "    for i in s:\n",
    "        l = l+i\n",
    "        \n",
    "    return l\n",
    "\n",
    "s = input(\"Please enter the string : \")\n",
    "print(f\"alphabet_soup(\\\"{s}\\\") ➞ \\\"{alphabet_soup(s)}\\\"\")"
   ]
  },
  {
   "cell_type": "raw",
   "id": "0ead4ba1",
   "metadata": {},
   "source": [
    "Question4\n",
    "\n",
    "Suppose that you invest $10,000 for 10 years at an interest rate of 6% compounded monthly. \n",
    "What will be the value of your investment at the end of the 10 year period?\n",
    "\n",
    "Create a function that accepts the principal p, the term in years t, the interest rate r, and the number of \n",
    "compounding periods per year n. The function returns the value at the end of term rounded to the nearest cent.\n",
    "\n",
    "For the example above:\n",
    "\n",
    "compound_interest(10000, 10, 0.06, 12) ➞ 18193.97\n",
    "\n",
    "Note that the interest rate is given as a decimal and n=12 because with monthly compounding there are 12 periods \n",
    "per year. Compounding can also be done annually, quarterly, weekly, or daily."
   ]
  },
  {
   "cell_type": "code",
   "execution_count": 97,
   "id": "cbe54498",
   "metadata": {},
   "outputs": [
    {
     "name": "stdout",
     "output_type": "stream",
     "text": [
      "Please enter the value of principal(p), term in years(t), interest rate(r), number of compunding year(n) :10000,10,0.06,12\n",
      "compound_interest (10000.0,10.0,0.06,12.0) ➞ 18193.97\n"
     ]
    }
   ],
   "source": [
    "def compound_interest(p,t,r,n):\n",
    "    \n",
    "    z = p *((1+(r/n))**(n*t))\n",
    "    return z\n",
    "\n",
    "s = \"Please enter the value of principal(p), term in years(t), interest rate(r), number of compunding year(n) :\"\n",
    "\n",
    "p,t,r,n = [float(x) for x in input(s).split(\",\") ]\n",
    "print(f\"compound_interest ({p},{t},{r},{n}) ➞ {round(compound_interest(p,t,r,n),2)}\")"
   ]
  },
  {
   "cell_type": "code",
   "execution_count": 98,
   "id": "972927ce",
   "metadata": {},
   "outputs": [
    {
     "data": {
      "text/plain": [
       "56"
      ]
     },
     "execution_count": 98,
     "metadata": {},
     "output_type": "execute_result"
    }
   ],
   "source": [
    "[23,34,45,56,12,34][3]"
   ]
  },
  {
   "cell_type": "raw",
   "id": "385328d1",
   "metadata": {},
   "source": [
    "Question5\n",
    "\n",
    "Write a function that takes a list of elements and returns only the integers.\n",
    "Examples\n",
    "return_only_integer([9, 2, \"space\", \"car\", \"lion\", 16]) ➞ [9, 2, 16]\n",
    "\n",
    "return_only_integer([\"hello\", 81, \"basketball\", 123, \"fox\"]) ➞ [81, 123]\n",
    "\n",
    "return_only_integer([10, \"121\", 56, 20, \"car\", 3, \"lion\"]) ➞ [10, 56, 20, 3]\n",
    "\n",
    "return_only_integer([\"String\",  True,  3.3,  1]) ➞ [1]"
   ]
  },
  {
   "cell_type": "code",
   "execution_count": 136,
   "id": "56f47e22",
   "metadata": {},
   "outputs": [
    {
     "name": "stdout",
     "output_type": "stream",
     "text": [
      "Please enter the list : [10, \"121\", 56, 20, \"car\", 3, \"lion\"]\n",
      "return_only_integer([10, '121', 56, 20, 'car', 3, 'lion']) : [10, 56, 20, 3]\n"
     ]
    }
   ],
   "source": [
    "def return_only_integer(n):\n",
    "    if type(n) == int:\n",
    "        return True\n",
    "    \n",
    "l = eval(input(\"Please enter the list : \"))\n",
    "print(f\"return_only_integer({l}) : {list(filter(return_only_integer,l))}\")"
   ]
  }
 ],
 "metadata": {
  "kernelspec": {
   "display_name": "Python 3 (ipykernel)",
   "language": "python",
   "name": "python3"
  },
  "language_info": {
   "codemirror_mode": {
    "name": "ipython",
    "version": 3
   },
   "file_extension": ".py",
   "mimetype": "text/x-python",
   "name": "python",
   "nbconvert_exporter": "python",
   "pygments_lexer": "ipython3",
   "version": "3.9.12"
  }
 },
 "nbformat": 4,
 "nbformat_minor": 5
}
