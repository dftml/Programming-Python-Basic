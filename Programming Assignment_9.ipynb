{
 "cells": [
  {
   "cell_type": "markdown",
   "id": "449a8366",
   "metadata": {},
   "source": [
    "# Programming Assignment_9"
   ]
  },
  {
   "cell_type": "code",
   "execution_count": 59,
   "id": "d7b2cc58",
   "metadata": {},
   "outputs": [
    {
     "name": "stdout",
     "output_type": "stream",
     "text": [
      "Enter the number to check Disarium Number : 89\n",
      "Sum of their positional power is 89.\n",
      "This is a Disarium Number.\n"
     ]
    }
   ],
   "source": [
    "# Write a Python program to check if the given number is a Disarium Number\n",
    "\n",
    "a = int(input(\"Enter the number to check Disarium Number : \"))\n",
    "\n",
    "b = str(a) \n",
    "s=0\n",
    "for i in range(0,len(b)):\n",
    "    s = s + int(b[i])**(i+1)\n",
    "print(f\"Sum of their positional power is {s}.\")\n",
    "\n",
    "if s==a:\n",
    "    print(\"This is a Disarium Number.\")\n",
    "else:\n",
    "    print(\"This is NOT a Disarium Number.\")"
   ]
  },
  {
   "cell_type": "code",
   "execution_count": 50,
   "id": "17d0463d",
   "metadata": {},
   "outputs": [
    {
     "name": "stdout",
     "output_type": "stream",
     "text": [
      "Enter the initial range : 1\n",
      "Enter the final range : 100\n",
      "This is the list of disarium number between 1 to 100 :\n",
      "1, 2, 3, 4, 5, 6, 7, 8, 9, 89, "
     ]
    }
   ],
   "source": [
    "# Write a Python program to print all disarium numbers between 1 to 100\n",
    "\n",
    "a1 = int(input(\"Enter the initial range : \"))\n",
    "a2 = int(input(\"Enter the final range : \"))\n",
    "\n",
    "print(f\"This is the list of disarium number between {a1} to {a2} :\")\n",
    "\n",
    "def number(c,d):\n",
    "    for j in range(c,d+1):\n",
    "        disarium_number(j)\n",
    "\n",
    "def disarium_number(a):\n",
    "    b = str(a) \n",
    "    s=0\n",
    "    for i in range(0,len(b)):\n",
    "        s = s + int(b[i])**(i+1)\n",
    "    \n",
    "    \n",
    "    if s==a:\n",
    "        q=\"\"\n",
    "        b=str(a)\n",
    "        q = q + b\n",
    "        print(q, end = \", \")\n",
    "    \n",
    "\n",
    "number(a1,a2)\n"
   ]
  },
  {
   "cell_type": "code",
   "execution_count": 46,
   "id": "5a0b50f9",
   "metadata": {},
   "outputs": [
    {
     "name": "stdout",
     "output_type": "stream",
     "text": [
      "Enter the number to check Happy Number : 7\n",
      "49, 97, 130, 10, 1, \n",
      "\n",
      "This number is a Happy Number : 7\n"
     ]
    }
   ],
   "source": [
    "# Write a Python program to check if the given number is Happy Number\n",
    "\n",
    "a1 = int(input(\"Enter the number to check Happy Number : \"))\n",
    "c = a1\n",
    "def one_cycle(a):\n",
    "    b = str(a)\n",
    "    s=0\n",
    "    for i in range(0, len(b)):\n",
    "        s = s + int(b[i])**2\n",
    "    print(s, end = \", \")\n",
    "    \n",
    "    \n",
    "    if s == 1:\n",
    "        print(\"\\n\")\n",
    "        print(\"This number is a Happy Number : {0}\".format(c))\n",
    "            \n",
    "    elif 10 > s > 1 :\n",
    "        print(\"\\n\")\n",
    "        print(\"This number is NOT a Happy Number : {0}\".format(c))\n",
    "        \n",
    "    else :\n",
    "        one_cycle(s)\n",
    "    \n",
    "one_cycle(a1)"
   ]
  },
  {
   "cell_type": "code",
   "execution_count": 49,
   "id": "099ba69c",
   "metadata": {},
   "outputs": [
    {
     "name": "stdout",
     "output_type": "stream",
     "text": [
      "Enter the initial range : 1\n",
      "Enter the final range : 100\n",
      "This is the list of happy number between 1 to 100 :\n",
      "1, 7, 10, 13, 19, 23, 28, 31, 32, 44, 49, 68, 70, 79, 82, 86, 91, 94, 97, 100, "
     ]
    }
   ],
   "source": [
    "# Write a Python program to print all happy numbers between 1 and 100\n",
    "\n",
    "d1 = int(input(\"Enter the initial range : \"))\n",
    "d2 = int(input(\"Enter the final range : \"))\n",
    "print(f\"This is the list of happy number between {d1} to {d2} :\")\n",
    "\n",
    "for a in range(d1,d2+1):\n",
    "    c=a\n",
    "    def one_cycle(a):\n",
    "        b = str(a)\n",
    "        s=0\n",
    "        for i in range(0, len(b)):\n",
    "            s = s + int(b[i])**2\n",
    "\n",
    "\n",
    "        if s == 1:\n",
    "            print(c, end = \", \")\n",
    "\n",
    "        elif 10 > s > 1 :\n",
    "            pass\n",
    "\n",
    "        else :\n",
    "            one_cycle(s)\n",
    "        \n",
    "    one_cycle(a)"
   ]
  },
  {
   "cell_type": "code",
   "execution_count": 57,
   "id": "dc7e87ea",
   "metadata": {},
   "outputs": [
    {
     "name": "stdout",
     "output_type": "stream",
     "text": [
      "Enter the number to check Harshad Number : 13\n",
      "The number 13 is NOT a Harshad Number.\n"
     ]
    }
   ],
   "source": [
    "# Write a Python program to determine whether the given number is a Harshad Number\n",
    "\n",
    "\n",
    "n = int(input(\"Enter the number to check Harshad Number : \"))\n",
    "b = str(n)\n",
    "s=0\n",
    "for i in range(0,len(b)):\n",
    "    s = s + int(b[i])\n",
    "    \n",
    "if n % s == 0:\n",
    "    print(f\"The number {n} is a Harshad Number.\")\n",
    "    \n",
    "else :\n",
    "    print(f\"The number {n} is NOT a Harshad Number.\")\n",
    "\n"
   ]
  },
  {
   "cell_type": "code",
   "execution_count": 65,
   "id": "5b727136",
   "metadata": {},
   "outputs": [
    {
     "name": "stdout",
     "output_type": "stream",
     "text": [
      "Enter the initial range : 1\n",
      "Enter the final range : 100\n",
      "This is the list of all pronic numbers between 1 to 100 :\n",
      "2, 6, 12, 20, 30, 42, 56, 72, 90, "
     ]
    }
   ],
   "source": [
    "# Write a Python program to print all pronic numbers between 1 and 100\n",
    "\n",
    "d1 = int(input(\"Enter the initial range : \"))\n",
    "d2 = int(input(\"Enter the final range : \"))\n",
    "\n",
    "print(f\"This is the list of all pronic numbers between {d1} to {d2} :\")\n",
    "\n",
    "for i in range(d1,d2):\n",
    "    r = i*(i+1)\n",
    "    if r > d2:\n",
    "        break\n",
    "    print(r, end = \", \")\n",
    "    \n",
    "        "
   ]
  }
 ],
 "metadata": {
  "kernelspec": {
   "display_name": "Python 3 (ipykernel)",
   "language": "python",
   "name": "python3"
  },
  "language_info": {
   "codemirror_mode": {
    "name": "ipython",
    "version": 3
   },
   "file_extension": ".py",
   "mimetype": "text/x-python",
   "name": "python",
   "nbconvert_exporter": "python",
   "pygments_lexer": "ipython3",
   "version": "3.9.12"
  }
 },
 "nbformat": 4,
 "nbformat_minor": 5
}
