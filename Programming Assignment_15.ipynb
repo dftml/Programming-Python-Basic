{
 "cells": [
  {
   "cell_type": "markdown",
   "id": "35aee046",
   "metadata": {},
   "source": [
    "# Programming Assignment_15"
   ]
  },
  {
   "cell_type": "raw",
   "id": "2f438d8f",
   "metadata": {},
   "source": [
    "Please write a program using generator to print the numbers which can be divisible by 5 and 7 between 0 and n \n",
    "in comma separated form while n is input by console.\n",
    "\n",
    "Example:\n",
    "If the following n is given as input to the program:\n",
    "100\n",
    "Then, the output of the program should be:\n",
    "0,35,70"
   ]
  },
  {
   "cell_type": "code",
   "execution_count": 21,
   "id": "ed27c758",
   "metadata": {},
   "outputs": [
    {
     "name": "stdout",
     "output_type": "stream",
     "text": [
      "Please enter the value of n : 100\n",
      "0,35,70\n"
     ]
    }
   ],
   "source": [
    "n = int(input(\"Please enter the value of n : \"))\n",
    "\n",
    "def divisible(n):\n",
    "    \n",
    "    for i in range(0,n+1):\n",
    "        if i%5 ==0 and i%7 ==0:\n",
    "            yield i\n",
    "\n",
    "l = []            \n",
    "for j in divisible(n):\n",
    "    l.append(str(j))\n",
    "    \n",
    "\n",
    "k = \",\".join(l)\n",
    "print(k)"
   ]
  },
  {
   "cell_type": "raw",
   "id": "e93c738c",
   "metadata": {},
   "source": [
    "Please write a program using generator to print the even numbers between 0 and n in comma separated form while n is\n",
    "input by console.\n",
    "\n",
    "Example:\n",
    "If the following n is given as input to the program:\n",
    "10\n",
    "Then, the output of the program should be:\n",
    "0,2,4,6,8,10"
   ]
  },
  {
   "cell_type": "code",
   "execution_count": 13,
   "id": "e0acd286",
   "metadata": {},
   "outputs": [
    {
     "name": "stdout",
     "output_type": "stream",
     "text": [
      "Please enter the value of n : 10\n",
      "0,2,4,6,8,10\n"
     ]
    }
   ],
   "source": [
    "n = int(input(\"Please enter the value of n : \"))\n",
    "\n",
    "def even(n):\n",
    "    \n",
    "    for i in range(0,n+1):\n",
    "        if i%2 == 0:\n",
    "            yield i\n",
    "            \n",
    "l = []\n",
    "for j in even(n):\n",
    "    l.append(str(j))\n",
    "    \n",
    "k = \",\".join(l)\n",
    "print(k)"
   ]
  },
  {
   "cell_type": "raw",
   "id": "dbefd45e",
   "metadata": {},
   "source": [
    "The Fibonacci Sequence is computed based on the following formula:\n",
    "f(n)=0 if n=0\n",
    "f(n)=1 if n=1\n",
    "f(n)=f(n-1)+f(n-2) if n>1\n",
    "\n",
    "Please write a program using list comprehension to print the Fibonacci Sequence in comma separated form with a given\n",
    "n input by console.\n",
    "\n",
    "Example:\n",
    "If the following n is given as input to the program:\n",
    "7\n",
    "\n",
    "Then, the output of the program should be:\n",
    "0,1,1,2,3,5,8,13"
   ]
  },
  {
   "cell_type": "code",
   "execution_count": 15,
   "id": "4e18c106",
   "metadata": {},
   "outputs": [
    {
     "name": "stdout",
     "output_type": "stream",
     "text": [
      "0,1,1,2,3,5,8,13\n"
     ]
    }
   ],
   "source": [
    "\n",
    "n = 7\n",
    "l = [0,1]\n",
    "z = [l.append(l[i] + l[i+1]) for i in range(0,n-1)]\n",
    "\n",
    "m = []\n",
    "k = [m.append(str(j)) for j in l]\n",
    "q = \",\".join(m)\n",
    "print(q)"
   ]
  },
  {
   "cell_type": "raw",
   "id": "15eb5aab",
   "metadata": {},
   "source": [
    "Assuming that we have some email addresses in the \"username@companyname.com\" format, please write program to print \n",
    "the user name of a given email address. Both user names and company names are composed of letters only.\n",
    "\n",
    "Example:\n",
    "If the following email address is given as input to the program:\n",
    "john@google.com\n",
    "Then, the output of the program should be:\n",
    "john"
   ]
  },
  {
   "cell_type": "code",
   "execution_count": 31,
   "id": "de99c514",
   "metadata": {},
   "outputs": [
    {
     "name": "stdout",
     "output_type": "stream",
     "text": [
      "Please enter the email address : john@google.com\n",
      "john"
     ]
    }
   ],
   "source": [
    "s = input(\"Please enter the email address : \")\n",
    "\n",
    "def user(s):\n",
    "    \n",
    "    for i in s:\n",
    "        if i == \"@\":\n",
    "            break\n",
    "        yield i\n",
    "            \n",
    "for j in user(s):\n",
    "    print(j, end = \"\")"
   ]
  },
  {
   "cell_type": "raw",
   "id": "bb5e52d8",
   "metadata": {},
   "source": [
    "Define a class named Shape and its subclass Square. The Square class has an init function which takes a length as \n",
    "argument. Both classes have a area function which can print the area of the shape where Shape's area is 0 by default."
   ]
  },
  {
   "cell_type": "code",
   "execution_count": 88,
   "id": "3a3d1cbf",
   "metadata": {},
   "outputs": [
    {
     "name": "stdout",
     "output_type": "stream",
     "text": [
      "area of the given shape 64\n",
      "area of the given shape 0\n"
     ]
    }
   ],
   "source": [
    "class Shape:\n",
    "\n",
    "    def area(self):\n",
    "        a = 0\n",
    "        return f\"area of the shape {a}\"\n",
    "        \n",
    "        \n",
    "        \n",
    "class Square(Shape):\n",
    "    \n",
    "    def __init__(self, length = 0):\n",
    "        self.length = length\n",
    "        \n",
    "    def area(self):\n",
    "        a = self.length * self.length\n",
    "        return f\"area of the given shape {a}\"\n",
    "    \n",
    "# object case    \n",
    "\n",
    "Zsqr = Square(8)\n",
    "print(Zsqr.area())\n",
    "\n",
    "\n",
    "# by default case\n",
    "\n",
    "d = Square()\n",
    "print(d.area())"
   ]
  }
 ],
 "metadata": {
  "kernelspec": {
   "display_name": "Python 3 (ipykernel)",
   "language": "python",
   "name": "python3"
  },
  "language_info": {
   "codemirror_mode": {
    "name": "ipython",
    "version": 3
   },
   "file_extension": ".py",
   "mimetype": "text/x-python",
   "name": "python",
   "nbconvert_exporter": "python",
   "pygments_lexer": "ipython3",
   "version": "3.9.12"
  }
 },
 "nbformat": 4,
 "nbformat_minor": 5
}
