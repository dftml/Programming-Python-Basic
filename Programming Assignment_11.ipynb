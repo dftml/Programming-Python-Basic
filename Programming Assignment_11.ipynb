{
 "cells": [
  {
   "cell_type": "markdown",
   "id": "e674200e",
   "metadata": {},
   "source": [
    "# Programming Assignment_11"
   ]
  },
  {
   "cell_type": "code",
   "execution_count": 26,
   "id": "a7050d33",
   "metadata": {},
   "outputs": [
    {
     "name": "stdout",
     "output_type": "stream",
     "text": [
      "Enter the value of length3\n",
      "understand Python language "
     ]
    }
   ],
   "source": [
    "# Write a Python program to find words which are greater than given length k\n",
    "\n",
    "s = \"I am understand the Python language\"\n",
    "\n",
    "k = int(input(\"Enter the value of length\"))\n",
    "\n",
    "l = s.split(\" \")\n",
    "\n",
    "for i in l:\n",
    "    if len(i)>k:\n",
    "        print(i, end = \" \")"
   ]
  },
  {
   "cell_type": "code",
   "execution_count": 49,
   "id": "05f9ff37",
   "metadata": {},
   "outputs": [
    {
     "name": "stdout",
     "output_type": "stream",
     "text": [
      "Enter the i-th character : 7\n",
      "I am unerstan the Python language\n"
     ]
    }
   ],
   "source": [
    "# Write a Python program for removing i-th character from a string\n",
    "\n",
    "s = \"I am understand the Python language\"\n",
    "k = int(input(\"Enter the i-th character : \"))\n",
    "\n",
    "for i in range(0,len(s)):\n",
    "    if i == k:\n",
    "        z = s.replace(str(s[i]),\"\")\n",
    "        \n",
    "print(z)"
   ]
  },
  {
   "cell_type": "code",
   "execution_count": 9,
   "id": "f952c0b2",
   "metadata": {},
   "outputs": [
    {
     "name": "stdout",
     "output_type": "stream",
     "text": [
      "Split the string :  ['I', 'am', 'understand', 'the', 'Python', 'language']\n",
      "I am understand the Python language "
     ]
    }
   ],
   "source": [
    "# Write a Python program to split and join a string\n",
    "\n",
    "s = \"I am understand the Python language\"\n",
    "\n",
    "# split a string\n",
    "l = []\n",
    "s1 = \"\"\n",
    "for i in range(0,len(s)):\n",
    "    if s[i] == \" \":\n",
    "        l.append(s1)\n",
    "        s1 =\"\"\n",
    "        \n",
    "    else :\n",
    "        s1 = s1 + s[i]\n",
    "\n",
    "## after creation of new string list appended        \n",
    "if True:\n",
    "    l.append(s1)\n",
    "\n",
    "print(\"Split the string : \", l)\n",
    "\n",
    "# join a string\n",
    "\n",
    "for j in l:\n",
    "    print(j, end = \" \")\n"
   ]
  },
  {
   "cell_type": "code",
   "execution_count": 104,
   "id": "eea94040",
   "metadata": {},
   "outputs": [
    {
     "name": "stdout",
     "output_type": "stream",
     "text": [
      "The string is NOT a binary string\n"
     ]
    }
   ],
   "source": [
    "# Write a Python to check if a given string is binary string or not\n",
    "\n",
    "s = \"010100101010101010\"\n",
    "z=0\n",
    "for i in s:\n",
    "    if i == \"0\" or i == \"1\":\n",
    "        z = z +1 \n",
    "        \n",
    "if z == len(s):\n",
    "    print(\"The string is a binary string\")\n",
    "\n",
    "else :\n",
    "    print(\"The string is NOT a binary string\")"
   ]
  },
  {
   "cell_type": "code",
   "execution_count": 42,
   "id": "ab2ec17a",
   "metadata": {},
   "outputs": [
    {
     "name": "stdout",
     "output_type": "stream",
     "text": [
      "I, am, understand, Ineuron, is, best, learning, platform, for, "
     ]
    }
   ],
   "source": [
    "# Write a Python program to find uncommon words from two Strings\n",
    "\n",
    "a = \"I am understand the Python language\"\n",
    "b = \"Ineuron is the best learning platform for the Python language\"\n",
    "\n",
    "a1 = a.split(\" \")\n",
    "a2 = b.split(\" \")\n",
    "\n",
    "for i in range(0, len(a1)):\n",
    "    if a1[i] not in a2:\n",
    "        print(a1[i], end = \", \")\n",
    "        \n",
    "        \n",
    "for j in range(0, len(a2)):\n",
    "    if a2[j] not in a1:\n",
    "        print(a2[j], end = \", \")"
   ]
  },
  {
   "cell_type": "code",
   "execution_count": 54,
   "id": "21b7f0a5",
   "metadata": {},
   "outputs": [
    {
     "name": "stdout",
     "output_type": "stream",
     "text": [
      "u, e, h, g, a, n, d,  , t, "
     ]
    }
   ],
   "source": [
    "# Write a Python to find all duplicate characters in string\n",
    "s = \"I am understand the Python language\"\n",
    "z = set(s)\n",
    "s1 = list(z)\n",
    "for i in range(0,len(s1)):\n",
    "    k=0\n",
    "    for j in range(0,len(s)):\n",
    "        if s1[i] == s[j]:\n",
    "            k = k+1\n",
    "            \n",
    "    if k>1:\n",
    "        print(s1[i], end = \", \")\n"
   ]
  },
  {
   "cell_type": "code",
   "execution_count": 3,
   "id": "dd32a95d",
   "metadata": {},
   "outputs": [
    {
     "name": "stdout",
     "output_type": "stream",
     "text": [
      "String contains special character\n"
     ]
    }
   ],
   "source": [
    "# Write a Python Program to check if a string contains any special character\n",
    "\n",
    "\n",
    "\n",
    "import string\n",
    "s = \"One day I % will & be a data @scientist\"\n",
    "l = 0\n",
    "\n",
    "for i in range(0,len(s)):\n",
    "    if s[i] in string.punctuation:\n",
    "        l = l+4\n",
    "        \n",
    "if l > 0:\n",
    "    print(\"String contains special character\")\n",
    "    \n",
    "else :\n",
    "    print(\"String does not contains any special character\")\n",
    "        \n",
    "    "
   ]
  }
 ],
 "metadata": {
  "kernelspec": {
   "display_name": "Python 3 (ipykernel)",
   "language": "python",
   "name": "python3"
  },
  "language_info": {
   "codemirror_mode": {
    "name": "ipython",
    "version": 3
   },
   "file_extension": ".py",
   "mimetype": "text/x-python",
   "name": "python",
   "nbconvert_exporter": "python",
   "pygments_lexer": "ipython3",
   "version": "3.9.12"
  }
 },
 "nbformat": 4,
 "nbformat_minor": 5
}
