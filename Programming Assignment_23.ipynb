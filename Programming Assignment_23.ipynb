{
 "cells": [
  {
   "cell_type": "raw",
   "id": "197d89ca",
   "metadata": {},
   "source": [
    "Question 1\n",
    "\n",
    "Create a function that takes a number as an argument and returns True or False depending on whether the number \n",
    "is symmetrical or not. A number is symmetrical when it is the same as its reverse.\n",
    "\n",
    "Examples\n",
    "\n",
    "is_symmetrical(7227) ➞ True\n",
    "\n",
    "is_symmetrical(12567) ➞ False\n",
    "\n",
    "is_symmetrical(44444444) ➞ True\n",
    "\n",
    "is_symmetrical(9939) ➞ False\n",
    "\n",
    "is_symmetrical(1112111) ➞ True"
   ]
  },
  {
   "cell_type": "code",
   "execution_count": 84,
   "id": "fa320ddc",
   "metadata": {},
   "outputs": [
    {
     "name": "stdout",
     "output_type": "stream",
     "text": [
      "Please enter the value of number : 1112111\n",
      "is_symmetrical (1112111) ➞ True\n"
     ]
    }
   ],
   "source": [
    "def is_symmetrical(s):\n",
    "    if eval(s) == eval(s[::-1]):\n",
    "        return True\n",
    "    else:\n",
    "        return False\n",
    "s = input(\"Please enter the value of number : \")\n",
    "print(f\"is_symmetrical ({eval(s)}) ➞ {is_symmetrical(s)}\")"
   ]
  },
  {
   "cell_type": "code",
   "execution_count": 79,
   "id": "1c6bd197",
   "metadata": {},
   "outputs": [
    {
     "data": {
      "text/plain": [
       "'54321'"
      ]
     },
     "execution_count": 79,
     "metadata": {},
     "output_type": "execute_result"
    }
   ],
   "source": [
    "s = \"12345\"\n",
    "s[::-1]"
   ]
  },
  {
   "cell_type": "raw",
   "id": "2604f31a",
   "metadata": {},
   "source": [
    "Question 2\n",
    "Given a string of numbers separated by a comma and space, return the product of the numbers.\n",
    "\n",
    "Examples\n",
    "\n",
    "multiply_nums(\"2, 3\") ➞ 6\n",
    "\n",
    "multiply_nums(\"1, 2, 3, 4\") ➞ 24\n",
    "\n",
    "multiply_nums(\"54, 75, 453, 0\") ➞ 0\n",
    "\n",
    "multiply_nums(\"10, -2\") ➞ -20"
   ]
  },
  {
   "cell_type": "code",
   "execution_count": 53,
   "id": "bb3e5551",
   "metadata": {},
   "outputs": [
    {
     "name": "stdout",
     "output_type": "stream",
     "text": [
      "Please enter the strings of numbers : \"10,-2\"\n",
      "multiply_nums (\"10,-2\") ➞ -20\n"
     ]
    }
   ],
   "source": [
    "def multiply_nums(x,y):\n",
    "    return x*y\n",
    "\n",
    "from functools import reduce\n",
    "s = eval(input(\"Please enter the strings of numbers : \"))\n",
    "print(f\"multiply_nums (\\\"{s}\\\") ➞ {reduce(multiply_nums,eval(s))}\")"
   ]
  },
  {
   "cell_type": "raw",
   "id": "4dbd9bb5",
   "metadata": {},
   "source": [
    "Question 3\n",
    "\n",
    "Create a function that squares every digit of a number.\n",
    "Examples\n",
    "\n",
    "square_digits(9119) ➞ 811181\n",
    "\n",
    "square_digits(2483) ➞ 416649\n",
    "\n",
    "square_digits(3212) ➞ 9414\n",
    "\n",
    "Notes\n",
    "\n",
    "The function receives an integer and must return an integer."
   ]
  },
  {
   "cell_type": "code",
   "execution_count": 6,
   "id": "8f7aa514",
   "metadata": {},
   "outputs": [
    {
     "name": "stdout",
     "output_type": "stream",
     "text": [
      "Please enter the number : 2483\n",
      "square_digits(2483) ➞ 416649\n"
     ]
    }
   ],
   "source": [
    "def square_digits(n):\n",
    "    n = str(n)\n",
    "    z = \"\"\n",
    "    for i in n:\n",
    "        z = z + str(int(i)**2)\n",
    "        \n",
    "    return z\n",
    "n = int(input(\"Please enter the number : \"))\n",
    "print(f\"square_digits({n}) ➞ {int(square_digits(n))}\")"
   ]
  },
  {
   "cell_type": "raw",
   "id": "fb376f76",
   "metadata": {},
   "source": [
    "Question 4\n",
    "\n",
    "Create a function that sorts a list and removes all duplicate items from it.\n",
    "\n",
    "Examples\n",
    "\n",
    "setify([1, 3, 3, 5, 5]) ➞ [1, 3, 5]\n",
    "\n",
    "setify([4, 4, 4, 4]) ➞ [4]\n",
    "\n",
    "setify([5, 7, 8, 9, 10, 15]) ➞ [5, 7, 8, 9, 10, 15]\n",
    "\n",
    "setify([3, 3, 3, 2, 1]) ➞ [1, 2, 3]\n"
   ]
  },
  {
   "cell_type": "code",
   "execution_count": 78,
   "id": "a74ff837",
   "metadata": {},
   "outputs": [
    {
     "name": "stdout",
     "output_type": "stream",
     "text": [
      "Please enter the value of list : [3,3,3,2,1]\n",
      "setify ([3, 3, 3, 2, 1]) ➞ [1, 2, 3]\n"
     ]
    }
   ],
   "source": [
    "def setify(l):\n",
    "    l = set(l)\n",
    "    return sorted (list(l))\n",
    "\n",
    "l = eval(input(\"Please enter the value of list : \"))\n",
    "print(f\"setify ({l}) ➞ {setify(l)}\")"
   ]
  },
  {
   "cell_type": "raw",
   "id": "053d84bb",
   "metadata": {},
   "source": [
    "Question 5\n",
    "\n",
    "Create a function that returns the mean of all digits.\n",
    "\n",
    "Examples\n",
    "\n",
    "mean(42) ➞ 3\n",
    "\n",
    "mean(12345) ➞ 3\n",
    "\n",
    "mean(666) ➞ 6\n",
    "\n",
    "Notes\n",
    "    • The mean of all digits is the sum of digits / how many digits there are (e.g. mean of digits in 512 is \n",
    "      (5+1+2)/3(number of digits) = 8/3=2).\n",
    "    \n",
    "    • The mean will always be an integer.\n"
   ]
  },
  {
   "cell_type": "code",
   "execution_count": 52,
   "id": "1d84d63a",
   "metadata": {},
   "outputs": [
    {
     "name": "stdout",
     "output_type": "stream",
     "text": [
      "Please enter the number : 512\n",
      "mean(512) ➞ 2\n"
     ]
    }
   ],
   "source": [
    "def mean(x,y):\n",
    "    return int(x)+int(y)\n",
    "\n",
    "n = input(\"Please enter the number : \")\n",
    "from functools import reduce\n",
    "print(f\"mean({eval(n)}) ➞ {int((reduce(mean,list(n))/len(n)))}\")"
   ]
  }
 ],
 "metadata": {
  "kernelspec": {
   "display_name": "Python 3 (ipykernel)",
   "language": "python",
   "name": "python3"
  },
  "language_info": {
   "codemirror_mode": {
    "name": "ipython",
    "version": 3
   },
   "file_extension": ".py",
   "mimetype": "text/x-python",
   "name": "python",
   "nbconvert_exporter": "python",
   "pygments_lexer": "ipython3",
   "version": "3.9.12"
  }
 },
 "nbformat": 4,
 "nbformat_minor": 5
}
