{
 "cells": [
  {
   "cell_type": "markdown",
   "id": "e83e0636",
   "metadata": {},
   "source": [
    "# Programming Assignment_16"
   ]
  },
  {
   "cell_type": "raw",
   "id": "4405cf03",
   "metadata": {},
   "source": [
    "Question1. Write a function that stutters a word as if someone is struggling to read it. The first two letters are \n",
    "repeated twice with an ellipsis ... and space after each, and then the word is pronounced with a question mark ?.\n",
    "\n",
    "Examples\n",
    "stutter(\"incredible\") ➞ \"in... in... incredible?\"\n",
    "\n",
    "stutter(\"enthusiastic\") ➞ \"en... en... enthusiastic?\"\n",
    "\n",
    "stutter(\"outstanding\") ➞ \"ou... ou... outstanding?\"\n",
    "\n",
    "Hint :- Assume all input is in lower case and at least two characters long."
   ]
  },
  {
   "cell_type": "code",
   "execution_count": 51,
   "id": "1fba2d67",
   "metadata": {},
   "outputs": [
    {
     "name": "stdout",
     "output_type": "stream",
     "text": [
      "Enter the value of stutter : enthusiastic\n",
      "stutter(\"enthusiastic\") ➞ \"en... en... enthusiastic?\"\n"
     ]
    }
   ],
   "source": [
    "s = input(\"Enter the value of stutter : \")\n",
    "\n",
    "def stutter(s):\n",
    "    \n",
    "    return f\"\\\"{s[:2]}... {s[:2]}... {s}?\\\"\" \n",
    "\n",
    "print(f\"stutter(\\\"{s}\\\") ➞ {stutter(s)}\")"
   ]
  },
  {
   "cell_type": "raw",
   "id": "5f8b3ad9",
   "metadata": {},
   "source": [
    "Question 2.Create a function that takes an angle in radians and returns the corresponding angle in degrees rounded \n",
    "to one decimal place.\n",
    "\n",
    "Examples\n",
    "radians_to_degrees(1) ➞ 57.3\n",
    "\n",
    "radians_to_degrees(20) ➞ 1145.9\n",
    "\n",
    "radians_to_degrees(50) ➞ 2864.8"
   ]
  },
  {
   "cell_type": "code",
   "execution_count": 50,
   "id": "03e9b3e5",
   "metadata": {},
   "outputs": [
    {
     "name": "stdout",
     "output_type": "stream",
     "text": [
      "Enter the value of radians : 20\n",
      "radians_to_degrees(20) ➞ 1145.9\n"
     ]
    }
   ],
   "source": [
    "n = int(input(\"Enter the value of radians : \"))\n",
    "\n",
    "def radians_to_degrees(n):\n",
    "    \n",
    "    return n*57.296\n",
    "\n",
    "print(f\"radians_to_degrees({n}) ➞ {round(radians_to_degrees(n),1)}\")"
   ]
  },
  {
   "cell_type": "code",
   "execution_count": null,
   "id": "20674e1b",
   "metadata": {},
   "outputs": [],
   "source": [
    "Question 3. In this challenge, establish if a given integer num is a Curzon number. If 1 plus 2 elevated to num is \n",
    "exactly divisible by 1 plus 2 multiplied by num, then num is a Curzon number.\n",
    "\n",
    "Given a non-negative integer num, implement a function that returns True if num is a Curzon number, or False \n",
    "otherwise.\n",
    "\n",
    "Examples\n",
    "\n",
    "is_curzon(5) ➞ True\n",
    "# 2 ** 5 + 1 = 33\n",
    "# 2 * 5 + 1 = 11\n",
    "# 33 is a multiple of 11\n",
    "\n",
    "is_curzon(10) ➞ False\n",
    "# 2 ** 10 + 1 = 1025\n",
    "# 2 * 10 + 1 = 21\n",
    "# 1025 is not a multiple of 21\n",
    "\n",
    "is_curzon(14) ➞ True\n",
    "# 2 ** 14 + 1 = 16385\n",
    "# 2 * 14 + 1 = 29\n",
    "# 16385 is a multiple of 29"
   ]
  },
  {
   "cell_type": "code",
   "execution_count": 59,
   "id": "cfe0e234",
   "metadata": {},
   "outputs": [
    {
     "name": "stdout",
     "output_type": "stream",
     "text": [
      "Please enter the Curzon number : 14\n",
      "is_curzon(14) ➞ True\n"
     ]
    }
   ],
   "source": [
    "n = int(input(\"Please enter the Curzon number : \"))\n",
    "\n",
    "def is_curzon(n):\n",
    "    \n",
    "    z = 2**n + 1\n",
    "    k = 2*n + 1\n",
    "    \n",
    "    if z%k ==0:\n",
    "        return True\n",
    "    else:\n",
    "        return False\n",
    "\n",
    "print(f\"is_curzon({n}) ➞ {is_curzon(n)}\")"
   ]
  },
  {
   "cell_type": "raw",
   "id": "16f5b57c",
   "metadata": {},
   "source": [
    "Question 4.Given the side length x find the area of a hexagon.\n",
    "\n",
    "Area = 3*sqrt(3)*s2/2\n",
    "\n",
    "Examples\n",
    "area_of_hexagon(1) ➞ 2.6\n",
    "\n",
    "area_of_hexagon(2) ➞ 10.4\n",
    "\n",
    "area_of_hexagon(3) ➞ 23.4"
   ]
  },
  {
   "cell_type": "code",
   "execution_count": 17,
   "id": "901417bc",
   "metadata": {},
   "outputs": [
    {
     "name": "stdout",
     "output_type": "stream",
     "text": [
      "Please enter the side length : 2\n",
      "area_of_hexagon (2) ➞ 10.4\n"
     ]
    }
   ],
   "source": [
    "def area_of_hexagon(s):\n",
    "    k = 3**0.5\n",
    "    z = (3*s*s*k)/2\n",
    "    return z\n",
    "\n",
    "s = int(input(\"Please enter the side length : \"))\n",
    "    \n",
    "print(f\"area_of_hexagon ({s}) ➞ {round(area_of_hexagon(s),1)}\")"
   ]
  },
  {
   "cell_type": "raw",
   "id": "13b71fb6",
   "metadata": {},
   "source": [
    "Question 5. Create a function that returns a base-2 (binary) representation of a base-10 (decimal) string number. To\n",
    "convert is simple: ((2) means base-2 and (10) means base-10) 010101001(2) = 1 + 8 + 32 + 128.\n",
    "\n",
    "Going from right to left, the value of the most right bit is 1, now from that every bit to the left will be x2 the \n",
    "value, value of an 8 bit binary numbers are (256, 128, 64, 32, 16, 8, 4, 2, 1).\n",
    "\n",
    "Examples\n",
    "\n",
    "binary(1) ➞ \"1\"\n",
    "# 1*1 = 1\n",
    "\n",
    "binary(5) ➞ \"101\"\n",
    "# 1*1 + 1*4 = 5\n",
    "\n",
    "binary(10) ➞ \"1010\"\n",
    "# 1*2 + 1*8 = 10"
   ]
  },
  {
   "cell_type": "code",
   "execution_count": 61,
   "id": "681fa52d",
   "metadata": {},
   "outputs": [
    {
     "name": "stdout",
     "output_type": "stream",
     "text": [
      "Please enter the base-10 decimal number : 169\n",
      "binary(169) ➞ \"10101001\"\n"
     ]
    }
   ],
   "source": [
    "n = int(input(\"Please enter the base-10 decimal number : \"))\n",
    "\n",
    "def binary(n):\n",
    "    \n",
    "    while n >=1:\n",
    "        z = n//2\n",
    "        k = n%2\n",
    "        yield k\n",
    "        \n",
    "        if n==1:\n",
    "            break\n",
    "        n=z\n",
    "\n",
    "s = \"\"\n",
    "for i in binary(n):\n",
    "    s = str(i) + s \n",
    "print(f\"binary({n}) ➞ \\\"{s}\\\"\")"
   ]
  }
 ],
 "metadata": {
  "kernelspec": {
   "display_name": "Python 3 (ipykernel)",
   "language": "python",
   "name": "python3"
  },
  "language_info": {
   "codemirror_mode": {
    "name": "ipython",
    "version": 3
   },
   "file_extension": ".py",
   "mimetype": "text/x-python",
   "name": "python",
   "nbconvert_exporter": "python",
   "pygments_lexer": "ipython3",
   "version": "3.9.12"
  }
 },
 "nbformat": 4,
 "nbformat_minor": 5
}
