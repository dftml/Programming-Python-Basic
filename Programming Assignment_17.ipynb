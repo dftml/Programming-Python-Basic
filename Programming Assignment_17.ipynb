{
 "cells": [
  {
   "cell_type": "raw",
   "id": "df46c6f6",
   "metadata": {},
   "source": [
    "Question1. Create a function that takes three arguments a, b, c and returns the sum of the numbers that are evenly divided by c from the range a, b inclusive.\n",
    "Examples\n",
    "evenly_divisible(1, 10, 20) ➞ 0\n",
    "# No number between 1 and 10 can be evenly divided by 20.\n",
    "\n",
    "evenly_divisible(1, 10, 2) ➞ 30\n",
    "# 2 + 4 + 6 + 8 + 10 = 30\n",
    "\n",
    "evenly_divisible(1, 10, 3) ➞ 18\n",
    "# 3 + 6 + 9 = 18"
   ]
  },
  {
   "cell_type": "code",
   "execution_count": 18,
   "id": "c044265e",
   "metadata": {},
   "outputs": [
    {
     "name": "stdout",
     "output_type": "stream",
     "text": [
      "Enter the value of a,b,c : 1,10,2\n",
      "evenly_divisible(1,10,2) ➞ 30\n"
     ]
    }
   ],
   "source": [
    "a,b,c = [int(x) for x in input(\"Enter the value of a,b,c : \").split(\",\")] \n",
    "\n",
    "\n",
    "def evenly_divisible(a,b,c):\n",
    "    s=0\n",
    "    for i in range(a,b+1):\n",
    "        if i%c ==0:\n",
    "            s = s + i\n",
    "    return s\n",
    "\n",
    "print(f\"evenly_divisible({a},{b},{c}) ➞ {evenly_divisible(a,b,c)}\")\n",
    "            "
   ]
  },
  {
   "cell_type": "raw",
   "id": "159379f9",
   "metadata": {},
   "source": [
    "Question2. Create a function that returns True if a given inequality expression is correct and False otherwise.\n",
    "Examples\n",
    "correct_signs(\"3 < 7 < 11\") ➞ True\n",
    "\n",
    "correct_signs(\"13 > 44 > 33 > 1\") ➞ False\n",
    "\n",
    "correct_signs(\"1 < 2 < 6 < 9 > 3\") ➞ True"
   ]
  },
  {
   "cell_type": "code",
   "execution_count": 74,
   "id": "cd5193cb",
   "metadata": {},
   "outputs": [
    {
     "name": "stdout",
     "output_type": "stream",
     "text": [
      "Please enter the function : 13 > 44 > 33 > 1\n",
      "correct_signs(\"13 > 44 > 33 > 1\")➞ False\n"
     ]
    }
   ],
   "source": [
    "s = input(\"Please enter the function : \")\n",
    "\n",
    "def correct_signs(s):\n",
    "    \n",
    "    if eval(s) == True:\n",
    "        return True\n",
    "    \n",
    "    else:\n",
    "        return False\n",
    "    \n",
    "print(f\"correct_signs(\\\"{s}\\\")➞ {correct_signs(s)}\")\n",
    "    "
   ]
  },
  {
   "cell_type": "raw",
   "id": "27e7627c",
   "metadata": {},
   "source": [
    "Question3. Create a function that replaces all the vowels in a string with a specified character.\n",
    "Examples\n",
    "replace_vowels(\"the aardvark\", \"#\") ➞ \"th# ##rdv#rk\"\n",
    "\n",
    "replace_vowels(\"minnie mouse\", \"?\") ➞ \"m?nn?? m??s?\"\n",
    "\n",
    "replace_vowels(\"shakespeare\", \"*\") ➞ \"sh*k*sp**r*\""
   ]
  },
  {
   "cell_type": "code",
   "execution_count": 73,
   "id": "24f60b03",
   "metadata": {},
   "outputs": [
    {
     "name": "stdout",
     "output_type": "stream",
     "text": [
      "string,special character : minnie mouse,?\n",
      "replace_vowels(\"minnie mouse\",\"?\") ➞ \"m?nn?? m??s?\"\n"
     ]
    }
   ],
   "source": [
    "\n",
    "s1, s2 = [x for x in input(\"string,special character : \").split(\",\")]\n",
    "\n",
    "def replace_vowels(s1,s2):\n",
    "    \n",
    "    s = \"aeiouAEIOU\"\n",
    "    for i in s1:\n",
    "        if i in s:\n",
    "            s1 = s1.replace(i,s2) \n",
    "            \n",
    "    return s1\n",
    "\n",
    "print(f\"replace_vowels(\\\"{s1}\\\",\\\"{s2}\\\") ➞ \\\"{replace_vowels(s1,s2)}\\\"\")"
   ]
  },
  {
   "cell_type": "raw",
   "id": "81fb843f",
   "metadata": {},
   "source": [
    "Question4. Write a function that calculates the factorial of a number recursively.\n",
    "Examples\n",
    "factorial(5) ➞ 120\n",
    "\n",
    "factorial(3) ➞ 6\n",
    "\n",
    "factorial(1) ➞ 1\n",
    "\n",
    "factorial(0) ➞ 1"
   ]
  },
  {
   "cell_type": "code",
   "execution_count": 3,
   "id": "137c3902",
   "metadata": {},
   "outputs": [
    {
     "name": "stdout",
     "output_type": "stream",
     "text": [
      "Please enter the number : 0\n",
      "factorial (0) ➞ 1\n"
     ]
    }
   ],
   "source": [
    "n = int(input(\"Please enter the number : \"))\n",
    "\n",
    "def factorial(n):\n",
    "    \n",
    "    m = 1\n",
    "    for i in range(1,n+1):\n",
    "        m = m*i\n",
    "        \n",
    "    return m\n",
    "\n",
    "print(f\"factorial ({n}) ➞ {factorial(n)}\")"
   ]
  },
  {
   "cell_type": "raw",
   "id": "bb48bd9c",
   "metadata": {},
   "source": [
    "Question 5\n",
    "Hamming distance is the number of characters that differ between two strings.\n",
    "To illustrate:\n",
    "String1: \"abcbba\"\n",
    "String2: \"abcbda\"\n",
    "\n",
    "Hamming Distance: 1 - \"b\" vs. \"d\" is the only difference.\n",
    "Create a function that computes the hamming distance between two strings.\n",
    "Examples\n",
    "hamming_distance(\"abcde\", \"bcdef\") ➞ 5\n",
    "\n",
    "hamming_distance(\"abcde\", \"abcde\") ➞ 0\n",
    "\n",
    "hamming_distance(\"strong\", \"strung\") ➞ 1"
   ]
  },
  {
   "cell_type": "code",
   "execution_count": 17,
   "id": "0569149a",
   "metadata": {},
   "outputs": [
    {
     "name": "stdout",
     "output_type": "stream",
     "text": [
      "Please enter the two string String1,String2 : strong,strung\n",
      "hamming_distance (\"strong\",\"strung\") ➞ 1\n"
     ]
    }
   ],
   "source": [
    "s1,s2 = [x for x in input(\"Please enter the two string String1,String2 : \").split(\",\")]\n",
    "\n",
    "\n",
    "def hamming_distance(s1,s2):\n",
    "    \n",
    "    if len(s1)>len(s2):\n",
    "        n = len(s2)\n",
    "        \n",
    "    else:\n",
    "        n = len(s1)\n",
    "    s = 0 \n",
    "    for i in range(0,n):\n",
    "        \n",
    "        if s1[i] != s2[i]:\n",
    "            s = s + 1\n",
    "    return s\n",
    "\n",
    "print(f\"hamming_distance (\\\"{s1}\\\",\\\"{s2}\\\") ➞ {hamming_distance(s1,s2)}\")"
   ]
  }
 ],
 "metadata": {
  "kernelspec": {
   "display_name": "Python 3 (ipykernel)",
   "language": "python",
   "name": "python3"
  },
  "language_info": {
   "codemirror_mode": {
    "name": "ipython",
    "version": 3
   },
   "file_extension": ".py",
   "mimetype": "text/x-python",
   "name": "python",
   "nbconvert_exporter": "python",
   "pygments_lexer": "ipython3",
   "version": "3.9.12"
  }
 },
 "nbformat": 4,
 "nbformat_minor": 5
}
