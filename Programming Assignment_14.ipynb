{
 "cells": [
  {
   "cell_type": "markdown",
   "id": "bf09d33e",
   "metadata": {},
   "source": [
    "# Programming Assignment_14"
   ]
  },
  {
   "cell_type": "raw",
   "id": "fceb5870",
   "metadata": {},
   "source": [
    "Define a class with a generator which can iterate the numbers, which are divisible by\n",
    "7, between a given range 0 and n."
   ]
  },
  {
   "cell_type": "code",
   "execution_count": 29,
   "id": "5748ca00",
   "metadata": {},
   "outputs": [
    {
     "name": "stdout",
     "output_type": "stream",
     "text": [
      "Enter the value of final range : 100\n",
      "0 7 14 21 28 35 42 49 56 63 70 77 84 91 98 "
     ]
    }
   ],
   "source": [
    "class divisible:\n",
    "    \n",
    "    def __init__(self):\n",
    "        \n",
    "        self.n = int(input(\"Enter the value of final range : \"))\n",
    "    \n",
    "    \n",
    "    def divisible_7(self):\n",
    "        \n",
    "        for i in range(0,self.n+1):\n",
    "            if i % 7 ==0:\n",
    "                yield i\n",
    "\n",
    "\n",
    "\n",
    "for i in divisible().divisible_7():\n",
    "    print(i, end =\" \")"
   ]
  },
  {
   "cell_type": "raw",
   "id": "565a5718",
   "metadata": {},
   "source": [
    "Write a program to compute the frequency of the words from the input. The output should output after sorting the key alphanumerically.\n",
    "\n",
    "Suppose the following input is supplied to the program:\n",
    "New to Python or choosing between Python 2 and Python 3 ? Read Python 2 or Python 3.\n",
    "\n",
    "Then, the output should be:\n",
    "2:2\n",
    "3.:1\n",
    "3?:1\n",
    "New:1\n",
    "Python:5\n",
    "Read:1\n",
    "and:1\n",
    "between:1\n",
    "choosing:1\n",
    "or:2\n",
    "to:1"
   ]
  },
  {
   "cell_type": "code",
   "execution_count": 83,
   "id": "53f1f333",
   "metadata": {},
   "outputs": [
    {
     "name": "stdout",
     "output_type": "stream",
     "text": [
      "2:2\n",
      "3.:1\n",
      "3?:1\n",
      "New:1\n",
      "Python:5\n",
      "Read:1\n",
      "and:1\n",
      "between:1\n",
      "choosing:1\n",
      "or:2\n",
      "to:1\n"
     ]
    }
   ],
   "source": [
    "from collections import OrderedDict\n",
    "\n",
    "s = \"New to Python or choosing between Python 2 and Python 3? Read Python 2 or Python 3.\"\n",
    "\n",
    "l = []\n",
    "l = s.split(\" \")\n",
    "l.sort()\n",
    "\n",
    "\n",
    "od = OrderedDict()\n",
    "\n",
    "for i in l:\n",
    "    od[i] = 0\n",
    "\n",
    "for j in od:\n",
    "    for k in l:\n",
    "        if j == k:\n",
    "            od[j] = od[j] + 1 \n",
    "\n",
    "for i in od:\n",
    "    print(f\"{i}:{od[i]}\")"
   ]
  },
  {
   "cell_type": "raw",
   "id": "81928fed",
   "metadata": {},
   "source": [
    "Define a class Person and its two child classes: Male and Female. All classes have a method \"getGender\" which can \n",
    "print \"Male\" for Male class and \"Female\" for Female class."
   ]
  },
  {
   "cell_type": "code",
   "execution_count": 39,
   "id": "a297b761",
   "metadata": {},
   "outputs": [
    {
     "name": "stdout",
     "output_type": "stream",
     "text": [
      "Unknown\n",
      "Male\n",
      "Female\n"
     ]
    }
   ],
   "source": [
    "class Person:\n",
    "     \n",
    "    def getGender(self):\n",
    "        return \"Unknown\"\n",
    "    \n",
    "class Male(Person):\n",
    "    \n",
    "    def getGender(self):\n",
    "        return \"Male\"\n",
    "        \n",
    "class Female(Person):\n",
    "    \n",
    "    def getGender(self):\n",
    "        return \"Female\"\n",
    "    \n",
    "# Creating a object\n",
    "\n",
    "a1 = Person()\n",
    "a2 = Male()\n",
    "a3 = Female()\n",
    "\n",
    "# Calling a method for object\n",
    "\n",
    "print(a1.getGender())\n",
    "print(a2.getGender())\n",
    "print(a3.getGender())"
   ]
  },
  {
   "cell_type": "raw",
   "id": "7025fe22",
   "metadata": {},
   "source": [
    "Please write a program to generate all sentences where subject is in [\"I\", \"You\"] and verb is in [\"Play\", \"Love\"] \n",
    "and the object is in [\"Hockey\",\"Football\"]."
   ]
  },
  {
   "cell_type": "code",
   "execution_count": 42,
   "id": "8dc47084",
   "metadata": {},
   "outputs": [
    {
     "name": "stdout",
     "output_type": "stream",
     "text": [
      "I Play Hockey.\n",
      "I Play Football.\n",
      "I Love Hockey.\n",
      "I Love Football.\n",
      "You Play Hockey.\n",
      "You Play Football.\n",
      "You Love Hockey.\n",
      "You Love Football.\n"
     ]
    }
   ],
   "source": [
    "# Subject + Verb + Object\n",
    "\n",
    "l1 = [\"I\", \"You\"]\n",
    "\n",
    "l2 = [\"Play\", \"Love\"]\n",
    "\n",
    "l3 = [\"Hockey\",\"Football\"]\n",
    "\n",
    "\n",
    "def function(l1,l2,l3):\n",
    "    \n",
    "    for i in l1:\n",
    "        for j in l2:\n",
    "            for k in l3:\n",
    "                \n",
    "                yield i+\" \"+j+\" \"+k+\".\"\n",
    "                \n",
    "for m in function(l1,l2,l3):\n",
    "    print(m)"
   ]
  },
  {
   "cell_type": "raw",
   "id": "11114a95",
   "metadata": {},
   "source": [
    "Please write a program to compress and decompress the string \"hello world!hello world!hello world!hello world!\"."
   ]
  },
  {
   "cell_type": "code",
   "execution_count": 11,
   "id": "d6080cd8",
   "metadata": {},
   "outputs": [
    {
     "name": "stdout",
     "output_type": "stream",
     "text": [
      "b'x\\x9c\\xcbH\\xcd\\xc9\\xc9W(\\xcf/\\xcaIQ\\xcc \\x82\\r\\x00\\xbd[\\x11\\xf5'\n",
      "\n",
      "\n",
      "b'hello world!hello world!hello world!hello world!'\n"
     ]
    }
   ],
   "source": [
    "import zlib\n",
    "\n",
    "word = \"hello world!hello world!hello world!hello world!\"\n",
    "\n",
    "s = bytes(word, \"utf-8\")\n",
    "\n",
    "k  = zlib.compress(s)\n",
    "print(k)\n",
    "\n",
    "print(\"\\n\")\n",
    "\n",
    "print(zlib.decompress(k))"
   ]
  },
  {
   "cell_type": "raw",
   "id": "5e0b048a",
   "metadata": {},
   "source": [
    "Please write a binary search function which searches an item in a sorted list. The function should return the index of element to be searched in the list."
   ]
  },
  {
   "cell_type": "code",
   "execution_count": 17,
   "id": "2da91e85",
   "metadata": {},
   "outputs": [
    {
     "name": "stdout",
     "output_type": "stream",
     "text": [
      "The Index of Element searched  7\n",
      "The Index of Element searched  11\n",
      "The index of target value 12 is 11 \n"
     ]
    }
   ],
   "source": [
    "def binary_search(l,n):\n",
    "    \n",
    "    initial = 0\n",
    "    final = len(l)-1\n",
    "    \n",
    "    if l[initial] == n:\n",
    "        return initial\n",
    "    \n",
    "    elif l[final] == n:\n",
    "        return final\n",
    "    \n",
    "    \n",
    "    while initial < final :\n",
    "        \n",
    "        \n",
    "        mid = (initial+final) // 2\n",
    "        print(f\"The Index of Element searched  {mid}\")\n",
    "    \n",
    "        if l[mid] == n:\n",
    "            return mid\n",
    "    \n",
    "        elif mid < n:\n",
    "            initial = mid\n",
    "        \n",
    "        elif mid > n:\n",
    "            final = mid\n",
    "    \n",
    "# Enter the sorted list\n",
    "l1 = [1,2,3,4,5,6,7,8,9,10,11,12,13,14,15,16]\n",
    "\n",
    "# target value to search on list\n",
    "n1 = 12\n",
    "\n",
    "print(f\"The index of target value {n1} is {binary_search(l1,n1)}.\")"
   ]
  }
 ],
 "metadata": {
  "kernelspec": {
   "display_name": "Python 3 (ipykernel)",
   "language": "python",
   "name": "python3"
  },
  "language_info": {
   "codemirror_mode": {
    "name": "ipython",
    "version": 3
   },
   "file_extension": ".py",
   "mimetype": "text/x-python",
   "name": "python",
   "nbconvert_exporter": "python",
   "pygments_lexer": "ipython3",
   "version": "3.9.12"
  }
 },
 "nbformat": 4,
 "nbformat_minor": 5
}
