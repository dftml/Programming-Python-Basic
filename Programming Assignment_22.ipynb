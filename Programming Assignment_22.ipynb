{
 "cells": [
  {
   "cell_type": "raw",
   "id": "c1e1f6ca",
   "metadata": {},
   "source": [
    "Question1\n",
    "\n",
    "Create a function that takes three parameters where:\n",
    "    • x is the start of the range (inclusive).\n",
    "    • y is the end of the range (inclusive).\n",
    "    • n is the divisor to be checked against.\n",
    "\n",
    "Return an ordered list with numbers in the range that are divisible by the third parameter n. Return an empty \n",
    "list if there are no numbers that are divisible by n.\n",
    "\n",
    "Examples\n",
    "\n",
    "list_operation(1, 10, 3) ➞ [3, 6, 9]\n",
    "\n",
    "list_operation(7, 9, 2) ➞ [8]\n",
    "\n",
    "list_operation(15, 20, 7) ➞ []"
   ]
  },
  {
   "cell_type": "code",
   "execution_count": 20,
   "id": "35faa6dd",
   "metadata": {},
   "outputs": [
    {
     "name": "stdout",
     "output_type": "stream",
     "text": [
      "Please enter the start,end,divisor of range : 1,10,3\n",
      "list_operation (1,10,3) ➞ [3, 6, 9]\n"
     ]
    }
   ],
   "source": [
    "\n",
    "def list_operation(x,y,n):\n",
    "    l=[]\n",
    "    for i in range(x,y+1):\n",
    "        if i%n == 0:\n",
    "            l.append(i)\n",
    "    return l\n",
    "\n",
    "x,y,n = [int(i) for i in input(\"Please enter the start,end,divisor of range : \").split(\",\")]\n",
    "print(f\"list_operation ({x},{y},{n}) ➞ {list_operation(x,y,n)}\")"
   ]
  },
  {
   "cell_type": "raw",
   "id": "f2b1bec0",
   "metadata": {},
   "source": [
    "Question2\n",
    "\n",
    "Create a function that takes in two lists and returns True if the second list follows the first list by one element,\n",
    "and False otherwise. In other words, determine if the second list is the first list shifted to the right by 1.\n",
    "\n",
    "Examples\n",
    "\n",
    "simon_says([1, 2], [5, 1]) ➞ True\n",
    "\n",
    "simon_says([1, 2], [5, 5]) ➞ False\n",
    "\n",
    "simon_says([1, 2, 3, 4, 5], [0, 1, 2, 3, 4]) ➞ True\n",
    "\n",
    "simon_says([1, 2, 3, 4, 5], [5, 5, 1, 2, 3]) ➞ False\n",
    "\n",
    "Notes\n",
    "    • Both input lists will be of the same length, and will have a minimum length of 2.\n",
    "    • The values of the 0-indexed element in the second list and the n-1th indexed element in the first list do not       matter."
   ]
  },
  {
   "cell_type": "code",
   "execution_count": 164,
   "id": "91e7e616",
   "metadata": {},
   "outputs": [
    {
     "name": "stdout",
     "output_type": "stream",
     "text": [
      "Please enter the first list : [1, 2, 3, 4, 5]\n",
      "Please enter the second list : [5, 5, 1, 2, 3]\n",
      "simon_says([1, 2, 3, 4, 5],[5, 5, 1, 2, 3]) ➞ False\n"
     ]
    }
   ],
   "source": [
    "def simon_says(l1,l2):\n",
    "    z = 0\n",
    "    for i in range(len(l1)-1):\n",
    "        if l1[i] == l2[i+1]:\n",
    "            z = z + 1\n",
    "    else :\n",
    "        if z == len(l1)-1:\n",
    "            return True\n",
    "        else:\n",
    "            return False\n",
    "\n",
    "l1 = eval(input(\"Please enter the first list : \"))\n",
    "l2 = eval(input(\"Please enter the second list : \"))\n",
    "print(f\"simon_says({l1},{l2}) ➞ {simon_says(l1,l2)}\")"
   ]
  },
  {
   "cell_type": "raw",
   "id": "fa4360d4",
   "metadata": {},
   "source": [
    "Question3\n",
    "\n",
    "A group of friends have decided to start a secret society. The name will be the first letter of each of their names, \n",
    "sorted in alphabetical order.\n",
    "\n",
    "Create a function that takes in a list of names and returns the name of the secret society.\n",
    "\n",
    "Examples\n",
    "\n",
    "society_name([\"Adam\", \"Sarah\", \"Malcolm\"]) ➞ \"AMS\"\n",
    "\n",
    "society_name([\"Harry\", \"Newt\", \"Luna\", \"Cho\"]) ➞ \"CHLN\"\n",
    "\n",
    "society_name([\"Phoebe\", \"Chandler\", \"Rachel\", \"Ross\", \"Monica\", \"Joey\"]) ➞ \"CJMPRR\""
   ]
  },
  {
   "cell_type": "code",
   "execution_count": 156,
   "id": "f3df118b",
   "metadata": {},
   "outputs": [
    {
     "name": "stdout",
     "output_type": "stream",
     "text": [
      "Please enter the list : [\"Phoebe\", \"Chandler\", \"Rachel\", \"Ross\", \"Monica\", \"Joey\"]\n",
      "\n",
      "\n",
      "society_name(['Phoebe', 'Chandler', 'Rachel', 'Ross', 'Monica', 'Joey']) ➞ \"CJMPRR\"\n"
     ]
    }
   ],
   "source": [
    "def society_name(l):\n",
    "            \n",
    "    for j in range(len(l)):\n",
    "        for k in range(len(l)):\n",
    "            if l[j]<l[k]:\n",
    "                l[j],l[k] = l[k],l[j]    \n",
    "\n",
    "    s = \"\"\n",
    "    for i in l:\n",
    "        s = s + i[0]\n",
    "    return s\n",
    "\n",
    "l = eval(input(\"Please enter the list : \"))\n",
    "print(\"\\n\")\n",
    "print(f\"society_name({l}) ➞ \\\"{society_name(l)}\\\"\")"
   ]
  },
  {
   "cell_type": "raw",
   "id": "74d17435",
   "metadata": {},
   "source": [
    "Question4\n",
    "\n",
    "An isogram is a word that has no duplicate letters. Create a function that takes a string and returns either True or\n",
    "False depending on whether or not it's an \"isogram\".\n",
    "\n",
    "Examples\n",
    "\n",
    "is_isogram(\"Algorism\") ➞ True\n",
    "\n",
    "is_isogram(\"PasSword\") ➞ False\n",
    "\n",
    "# Not case sensitive.\n",
    "\n",
    "is_isogram(\"Consecutive\") ➞ False\n",
    "\n",
    "Notes\n",
    "    • Ignore letter case (should not be case sensitive).\n",
    "    • All test cases contain valid one word strings."
   ]
  },
  {
   "cell_type": "code",
   "execution_count": 80,
   "id": "9fd7dbc8",
   "metadata": {},
   "outputs": [
    {
     "name": "stdout",
     "output_type": "stream",
     "text": [
      "Please enter the value of string : PasSword\n",
      "is_isogram(\"PasSword\") ➞ False\n"
     ]
    }
   ],
   "source": [
    "import re\n",
    "\n",
    "def is_isogram(s):\n",
    "    \n",
    "    for i in s:\n",
    "        pa = re.compile(i,flags = re.I)\n",
    "        z = re.findall(pa,s)\n",
    "        \n",
    "        if len(z) > 1:\n",
    "            return False\n",
    "    else:\n",
    "        return True\n",
    "\n",
    "s = input(\"Please enter the value of string : \")\n",
    "print(f\"is_isogram(\\\"{s}\\\") ➞ {is_isogram(s)}\")"
   ]
  },
  {
   "cell_type": "code",
   "execution_count": 168,
   "id": "565e4bf6",
   "metadata": {},
   "outputs": [
    {
     "name": "stdout",
     "output_type": "stream",
     "text": [
      "Please enter the value of string : Consecutive\n",
      "is_isogram (\"Consecutive\") ➞ False\n"
     ]
    }
   ],
   "source": [
    "def is_isogram(s):\n",
    "    for i in s:\n",
    "        z = 0\n",
    "        if i.upper() in s and i.lower() in s:\n",
    "            z = z+1  \n",
    "            \n",
    "        z1 = 0\n",
    "        for j in s:\n",
    "            if i==j:\n",
    "                z1 = z1 + 1\n",
    "            \n",
    "    \n",
    "        if z+z1>1:\n",
    "            return False \n",
    "            \n",
    "    else:\n",
    "        return True\n",
    "\n",
    "s = input(\"Please enter the value of string : \")\n",
    "print(f\"is_isogram (\\\"{s}\\\") ➞ {is_isogram(s)}\")"
   ]
  },
  {
   "cell_type": "raw",
   "id": "176ce6c0",
   "metadata": {},
   "source": [
    "Question 5\n",
    "\n",
    "Create a function that takes a string and returns True or False, depending on whether the characters are in order \n",
    "or not.\n",
    "\n",
    "Examples\n",
    "\n",
    "is_in_order(\"abc\") ➞ True\n",
    "\n",
    "is_in_order(\"edabit\") ➞ False\n",
    "\n",
    "is_in_order(\"123\") ➞ True\n",
    "\n",
    "is_in_order(\"xyzz\") ➞ True\n",
    "\n",
    "Notes\n",
    "\n",
    "You don't have to handle empty strings."
   ]
  },
  {
   "cell_type": "code",
   "execution_count": 60,
   "id": "afdf7d65",
   "metadata": {},
   "outputs": [
    {
     "name": "stdout",
     "output_type": "stream",
     "text": [
      "Please enter the string : edabit\n",
      "is_in_order(\"edabit\") ➞ False\n"
     ]
    }
   ],
   "source": [
    "def is_in_order(s):\n",
    "    length = 1\n",
    "    for i in range(len(s)-1):\n",
    "        if s[i] <= s[i+1]:\n",
    "            length = length +1\n",
    "\n",
    "    else : \n",
    "        if length == len(s):\n",
    "            return True\n",
    "        else:\n",
    "            return False\n",
    "        \n",
    "s = input(\"Please enter the string : \")\n",
    "print(f\"is_in_order(\\\"{s}\\\") ➞ {is_in_order(s)}\")"
   ]
  }
 ],
 "metadata": {
  "kernelspec": {
   "display_name": "Python 3 (ipykernel)",
   "language": "python",
   "name": "python3"
  },
  "language_info": {
   "codemirror_mode": {
    "name": "ipython",
    "version": 3
   },
   "file_extension": ".py",
   "mimetype": "text/x-python",
   "name": "python",
   "nbconvert_exporter": "python",
   "pygments_lexer": "ipython3",
   "version": "3.9.12"
  }
 },
 "nbformat": 4,
 "nbformat_minor": 5
}
