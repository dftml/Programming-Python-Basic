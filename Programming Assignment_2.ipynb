{
 "cells": [
  {
   "cell_type": "markdown",
   "id": "86acb1e1",
   "metadata": {},
   "source": [
    "# Programming Assignment_2"
   ]
  },
  {
   "cell_type": "code",
   "execution_count": 8,
   "id": "5fbf88ff",
   "metadata": {},
   "outputs": [
    {
     "name": "stdout",
     "output_type": "stream",
     "text": [
      "Enter the value of distance (in km) : 5\n",
      "In 5 km = 3.106855 miles\n"
     ]
    }
   ],
   "source": [
    "#Write a Python program to convert kilometers to miles?\n",
    "\n",
    "k=int(input(\"Enter the value of distance (in km) : \"))\n",
    "m=k*0.621371\n",
    "\n",
    "print(\"In \"+ str(k) + \" km = \" + str(m) + \" miles\")"
   ]
  },
  {
   "cell_type": "code",
   "execution_count": 10,
   "id": "8c561ecd",
   "metadata": {},
   "outputs": [
    {
     "name": "stdout",
     "output_type": "stream",
     "text": [
      "Enter the value of Celsius : 8\n",
      "In 8 Celsius = 46.4 Fahrenheit\n"
     ]
    }
   ],
   "source": [
    "#Write a Python program to convert Celsius to Fahrenheit?\n",
    "\n",
    "c = int(input(\"Enter the value of Celsius : \"))\n",
    "m = (c*9/5) + 32\n",
    "\n",
    "print(f\"In {c} Celsius = {m} Fahrenheit\")"
   ]
  },
  {
   "cell_type": "code",
   "execution_count": 20,
   "id": "7c90b886",
   "metadata": {},
   "outputs": [
    {
     "name": "stdout",
     "output_type": "stream",
     "text": [
      "Enter the value of year 2022\n",
      "Enter the value of month 9\n",
      "   September 2022\n",
      "Mo Tu We Th Fr Sa Su\n",
      "          1  2  3  4\n",
      " 5  6  7  8  9 10 11\n",
      "12 13 14 15 16 17 18\n",
      "19 20 21 22 23 24 25\n",
      "26 27 28 29 30\n",
      "\n"
     ]
    }
   ],
   "source": [
    "#Write a Python program to display calendar?\n",
    "\n",
    "import calendar\n",
    "\n",
    "year=int(input(\"Enter the value of year \"))\n",
    "month=int(input(\"Enter the value of month \"))\n",
    "\n",
    "k=calendar.month(year, month)\n",
    "print(k)"
   ]
  },
  {
   "cell_type": "code",
   "execution_count": 1,
   "id": "01250bad",
   "metadata": {},
   "outputs": [
    {
     "name": "stdout",
     "output_type": "stream",
     "text": [
      "Enter a symbol if the polynomial equation's coefficient is negative\n",
      "Enter the coefficient of x^2 : 2\n",
      "Enter the coefficient of x : 4\n",
      "Enter the coefficient of 1 : 2\n",
      "The solution of 2 x^2 + 4 x + 2 = 0 is -1.0 & -1.0\n"
     ]
    }
   ],
   "source": [
    "#Write a Python program to solve quadratic equation?\n",
    "\n",
    "print(\"Enter a symbol if the polynomial equation's coefficient is negative\")\n",
    "x = int(input(\"Enter the coefficient of x^2 : \"))\n",
    "y= int(input(\"Enter the coefficient of x : \"))\n",
    "z= int(input(\"Enter the coefficient of 1 : \"))\n",
    "\n",
    "m = (y ** 2 - 4 * x * z) ** 0.5\n",
    " \n",
    "if (y ** 2 - 4 * x * z) >= 0:\n",
    "    a1 = (-y+m)/(2*x)\n",
    "    a2 = (-y-m)/(2*x)\n",
    "    print(\"The solution of {0} x^2 + {1} x + {2} = 0 is {3} & {4}\".format(x,y,z,a1,a2))\n",
    "    \n",
    "elif (y ** 2 - 4 * x * z) < 0:\n",
    "    a1 = (-y+m)/(2*x)\n",
    "    a2 = (-y-m)/(2*x)\n",
    "    print(\"The quadratic equations having complex solution or no finite solution\")\n",
    "    print(\"The solution of {0} x^2 + {1} x + {2} = 0 is {3} & {4}\".format(x,y,z,a1, a2))\n",
    " "
   ]
  },
  {
   "cell_type": "code",
   "execution_count": 11,
   "id": "54fc8ee5",
   "metadata": {},
   "outputs": [
    {
     "name": "stdout",
     "output_type": "stream",
     "text": [
      "Enter the value of first variable : 5\n",
      "Enter the value of second ariable : 9\n",
      "After Swapping\n",
      "Value of first variable :  9\n",
      "Value of second variable :  5\n"
     ]
    }
   ],
   "source": [
    "#Write a Python program to swap two variables without temp variable?\n",
    "\n",
    "a=int(input(\"Enter the value of first variable : \"))\n",
    "b=int(input(\"Enter the value of second ariable : \"))\n",
    "\n",
    "a,b=b,a\n",
    "print(\"After Swapping\")\n",
    "print(\"Value of first variable : \", a)\n",
    "print(\"Value of second variable : \", b)"
   ]
  }
 ],
 "metadata": {
  "kernelspec": {
   "display_name": "Python 3 (ipykernel)",
   "language": "python",
   "name": "python3"
  },
  "language_info": {
   "codemirror_mode": {
    "name": "ipython",
    "version": 3
   },
   "file_extension": ".py",
   "mimetype": "text/x-python",
   "name": "python",
   "nbconvert_exporter": "python",
   "pygments_lexer": "ipython3",
   "version": "3.9.12"
  }
 },
 "nbformat": 4,
 "nbformat_minor": 5
}
