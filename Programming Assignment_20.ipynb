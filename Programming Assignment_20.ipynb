{
 "cells": [
  {
   "cell_type": "raw",
   "id": "091114da",
   "metadata": {},
   "source": [
    "Question1\n",
    "Create a function that takes a list of strings and integers, and filters out the list so that it returns a list of \n",
    "integers only.\n",
    "\n",
    "Examples\n",
    "filter_list([1, 2, 3, \"a\", \"b\", 4]) ➞ [1, 2, 3, 4]\n",
    "\n",
    "filter_list([\"A\", 0, \"Edabit\", 1729, \"Python\", \"1729\"]) ➞ [0, 1729]\n",
    "\n",
    "filter_list([\"Nothing\", \"here\"]) ➞ []"
   ]
  },
  {
   "cell_type": "code",
   "execution_count": 19,
   "id": "1bb0d1b8",
   "metadata": {},
   "outputs": [
    {
     "name": "stdout",
     "output_type": "stream",
     "text": [
      "Please enter the list of strings and integers : [\"A\", 0, \"Edabit\", 1729, \"Python\", \"1729\"]\n",
      "filter_list(['A', 0, 'Edabit', 1729, 'Python', '1729']) ➞ [0, 1729]\n"
     ]
    }
   ],
   "source": [
    "def filter_list(n):\n",
    "    \n",
    "    if type(n)==int:\n",
    "        return True\n",
    "\n",
    "l = eval(input(\"Please enter the list of strings and integers : \"))\n",
    "\n",
    "print(f\"filter_list({l}) ➞ {list(filter(filter_list,l))}\")"
   ]
  },
  {
   "cell_type": "raw",
   "id": "4bc7d74f",
   "metadata": {},
   "source": [
    "Question2\n",
    "\n",
    "Given a list of numbers, create a function which returns the list but with each element's index in the list added \n",
    "to itself. This means you add 0 to the number at index 0, add 1 to the number at index 1, etc...\n",
    "\n",
    "Examples\n",
    "add_indexes([0, 0, 0, 0, 0]) ➞ [0, 1, 2, 3, 4]\n",
    "\n",
    "add_indexes([1, 2, 3, 4, 5]) ➞ [1, 3, 5, 7, 9]\n",
    "\n",
    "add_indexes([5, 4, 3, 2, 1]) ➞ [5, 5, 5, 5, 5]"
   ]
  },
  {
   "cell_type": "code",
   "execution_count": 27,
   "id": "df93703d",
   "metadata": {},
   "outputs": [
    {
     "name": "stdout",
     "output_type": "stream",
     "text": [
      "Please enter the list of numbers : 1,2,3,4,5\n",
      "add_indexes([1, 2, 3, 4, 5]) ➞ [1, 3, 5, 7, 9]\n"
     ]
    }
   ],
   "source": [
    "l = [int(x) for x in input(\"Please enter the list of numbers : \").split(\",\")]\n",
    "print(f\"add_indexes({l}) ➞ {list(map(lambda n: n+l.index(n),l))}\")\n",
    "\n",
    "# lambda is also function type"
   ]
  },
  {
   "cell_type": "raw",
   "id": "867d37a8",
   "metadata": {},
   "source": [
    "Question3\n",
    "\n",
    "Create a function that takes the height and radius of a cone as arguments and returns the volume of the cone \n",
    "rounded to the nearest hundredth. See the resources tab for the formula.\n",
    "\n",
    "Examples\n",
    "\n",
    "cone_volume(3, 2) ➞ 12.57\n",
    "\n",
    "cone_volume(15, 6) ➞ 565.49\n",
    "\n",
    "cone_volume(18, 0) ➞ 0"
   ]
  },
  {
   "cell_type": "code",
   "execution_count": 119,
   "id": "8ad11110",
   "metadata": {},
   "outputs": [
    {
     "name": "stdout",
     "output_type": "stream",
     "text": [
      "Please enter the height and radius : 15,6\n",
      "cone_volume(15,6) ➞ 565.49\n"
     ]
    }
   ],
   "source": [
    "def cone_volume(h,r):\n",
    "    \n",
    "    return 3.14159*(h/3)*(r**2)\n",
    "\n",
    "h,r = [int(x) for x in input(\"Please enter the height and radius : \").split(\",\")]\n",
    "print(f\"cone_volume({h},{r}) ➞ {round(cone_volume(h,r),2)}\")"
   ]
  },
  {
   "cell_type": "raw",
   "id": "0b0165b2",
   "metadata": {},
   "source": [
    "Question4\n",
    "This Triangular Number Sequence is generated from a pattern of dots that form a triangle. The first 5 numbers of \n",
    "the sequence, or dots, are: \n",
    "\n",
    "1, 3, 6, 10, 15\n",
    "\n",
    "This means that the first triangle has just one dot, the second one has three dots, the third one has 6 dots and \n",
    "so on.\n",
    "\n",
    "Write a function that gives the number of dots with its corresponding triangle number of the sequence.\n",
    "\n",
    "Examples\n",
    "\n",
    "triangle(1) ➞ 1\n",
    "\n",
    "triangle(6) ➞ 21\n",
    "\n",
    "triangle(215) ➞ 23220"
   ]
  },
  {
   "cell_type": "code",
   "execution_count": 21,
   "id": "7b332186",
   "metadata": {},
   "outputs": [
    {
     "name": "stdout",
     "output_type": "stream",
     "text": [
      "Please enter the sequence : 215\n",
      "triangle(215) ➞ 23220\n"
     ]
    }
   ],
   "source": [
    "from functools import reduce\n",
    "\n",
    "def create_list(n):\n",
    "    l = []\n",
    "    for i in range(0,n+1):\n",
    "        l.append(i) \n",
    "    return l\n",
    "\n",
    "n = int(input(\"Please enter the sequence : \"))\n",
    "print(f\"triangle({n}) ➞ {reduce(lambda x,y: x+y, create_list(n))}\")"
   ]
  },
  {
   "cell_type": "raw",
   "id": "d012763c",
   "metadata": {},
   "source": [
    "Question5\n",
    "\n",
    "Create a function that takes a list of numbers between 1 and 10 (excluding one number) and returns the missing \n",
    "number.\n",
    "\n",
    "Examples\n",
    "\n",
    "missing_num([1, 2, 3, 4, 6, 7, 8, 9, 10]) ➞ 5\n",
    "\n",
    "missing_num([7, 2, 3, 6, 5, 9, 1, 4, 8]) ➞ 10\n",
    "\n",
    "missing_num([10, 5, 1, 2, 4, 6, 8, 3, 9]) ➞ 7\n"
   ]
  },
  {
   "cell_type": "code",
   "execution_count": 20,
   "id": "787f8a5f",
   "metadata": {},
   "outputs": [
    {
     "name": "stdout",
     "output_type": "stream",
     "text": [
      "Please enter the list of numbers between 1 and 10 : [10, 5, 1, 2, 4, 6, 8, 3, 9]\n",
      "missing_num ([10, 5, 1, 2, 4, 6, 8, 3, 9]) ➞ 7\n"
     ]
    }
   ],
   "source": [
    "def missing_num(l):\n",
    "    \n",
    "    try:\n",
    "        for i in l:\n",
    "            if i == 0 or i>10:\n",
    "                raise Exception(\"The input list of numbers should be in between 1 and 10.\")\n",
    "                \n",
    "    except Exception as e:\n",
    "        return e\n",
    "    \n",
    "    else:\n",
    "        for j in range(1,11):\n",
    "            if j not in l:\n",
    "                return j\n",
    "    \n",
    "n = eval(input(\"Please enter the list of numbers between 1 and 10 : \"))\n",
    "print(f\"missing_num ({n}) ➞ {missing_num(n)}\")"
   ]
  },
  {
   "cell_type": "code",
   "execution_count": null,
   "id": "18712302",
   "metadata": {},
   "outputs": [],
   "source": []
  }
 ],
 "metadata": {
  "kernelspec": {
   "display_name": "Python 3 (ipykernel)",
   "language": "python",
   "name": "python3"
  },
  "language_info": {
   "codemirror_mode": {
    "name": "ipython",
    "version": 3
   },
   "file_extension": ".py",
   "mimetype": "text/x-python",
   "name": "python",
   "nbconvert_exporter": "python",
   "pygments_lexer": "ipython3",
   "version": "3.9.12"
  }
 },
 "nbformat": 4,
 "nbformat_minor": 5
}
