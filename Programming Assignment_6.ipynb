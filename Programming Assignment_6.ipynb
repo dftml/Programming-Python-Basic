{
 "cells": [
  {
   "cell_type": "markdown",
   "id": "1edf9cfa",
   "metadata": {},
   "source": [
    "# Programming Assignment_6"
   ]
  },
  {
   "cell_type": "code",
   "execution_count": 11,
   "id": "a38dfbc5",
   "metadata": {},
   "outputs": [
    {
     "name": "stdout",
     "output_type": "stream",
     "text": [
      "Enter the length of sequence 20\n",
      "0, 1, 1, 2, 3, 5, 8, 13, 21, 34, 55, 89, 144, 233, 377, 610, 987, 1597, 2584, 4181, "
     ]
    }
   ],
   "source": [
    "# Write a Python Program to Display Fibonacci Sequence Using Recursion\n",
    "\n",
    "\n",
    "def fibonacci(n):\n",
    "    a=0\n",
    "    b=1\n",
    "    for i in range(0,n):\n",
    "        print(a, end=\", \")\n",
    "        a , b = b, a+b\n",
    "        \n",
    "k = int(input(\"Enter the length of sequence \"))\n",
    "fibonacci(k)"
   ]
  },
  {
   "cell_type": "code",
   "execution_count": 27,
   "id": "6a379ac9",
   "metadata": {},
   "outputs": [
    {
     "name": "stdout",
     "output_type": "stream",
     "text": [
      "Please enter the number for factorial calculation : 5\n",
      "The value of 5 factorial is 120.\n"
     ]
    }
   ],
   "source": [
    "# Write a Python Program to Find Factorial of Number Using Recursion\n",
    "\n",
    "def factorial(n): \n",
    "    m=1\n",
    "    for i in range(1,n+1):\n",
    "        m = m*i\n",
    "    print(\"The value of {0} factorial is {1}.\".format(n,m))\n",
    "    \n",
    "        \n",
    "n = int(input(\"Please enter the number for factorial calculation : \"))\n",
    "factorial(n)"
   ]
  },
  {
   "cell_type": "code",
   "execution_count": 13,
   "id": "54ea81cc",
   "metadata": {},
   "outputs": [
    {
     "name": "stdout",
     "output_type": "stream",
     "text": [
      "Enter the value of Weight (in kg) : 65\n",
      "Enter the value of Height (in m): 1.77\n",
      "Body Mass Index = 36.72316384180791\n"
     ]
    }
   ],
   "source": [
    "# Write a Python Program to calculate your Body Mass Index\n",
    "\n",
    "w = float(input(\"Enter the value of Weight (in kg) : \"))\n",
    "h = float(input(\"Enter the value of Height (in m): \"))\n",
    "\n",
    "b = w/h\n",
    "print(\"Body Mass Index = \"+ str(b))"
   ]
  },
  {
   "cell_type": "code",
   "execution_count": 18,
   "id": "523d5288",
   "metadata": {},
   "outputs": [
    {
     "name": "stdout",
     "output_type": "stream",
     "text": [
      "Please enter the number : 14\n",
      "The natural logarithm of 14 is 2.6390573296152584\n"
     ]
    }
   ],
   "source": [
    "# Write a Python Program to calculate the natural logarithm of any number\n",
    "\n",
    "import math\n",
    "c = int(input(\"Please enter the number : \"))\n",
    "k = math.log(c)\n",
    "print(\"The natural logarithm of {0} is {1}\".format(c,k))"
   ]
  },
  {
   "cell_type": "code",
   "execution_count": 9,
   "id": "f6277760",
   "metadata": {},
   "outputs": [
    {
     "name": "stdout",
     "output_type": "stream",
     "text": [
      "Enter the cube of first natural numbers : 4\n",
      "100\n"
     ]
    }
   ],
   "source": [
    "# Write a Python Program for cube sum of first n natural numbers\n",
    "\n",
    "n = int(input(\"Enter the cube of first natural numbers : \"))\n",
    "sum=0\n",
    "for i in range(n+1):\n",
    "    sum = sum + i**3\n",
    "print(sum)"
   ]
  }
 ],
 "metadata": {
  "kernelspec": {
   "display_name": "Python 3 (ipykernel)",
   "language": "python",
   "name": "python3"
  },
  "language_info": {
   "codemirror_mode": {
    "name": "ipython",
    "version": 3
   },
   "file_extension": ".py",
   "mimetype": "text/x-python",
   "name": "python",
   "nbconvert_exporter": "python",
   "pygments_lexer": "ipython3",
   "version": "3.9.12"
  }
 },
 "nbformat": 4,
 "nbformat_minor": 5
}
