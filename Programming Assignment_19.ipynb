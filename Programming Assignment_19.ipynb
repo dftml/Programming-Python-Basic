{
 "cells": [
  {
   "cell_type": "raw",
   "id": "40afdac5",
   "metadata": {},
   "source": [
    "Question1\n",
    "\n",
    "Create a function that takes a string and returns a string in which each character is repeated once.\n",
    "Examples\n",
    "double_char(\"String\") ➞ \"SSttrriinngg\"\n",
    "\n",
    "double_char(\"Hello World!\") ➞ \"HHeelllloo  WWoorrlldd!!\"\n",
    "\n",
    "double_char(\"1234!_ \") ➞ \"11223344!!__  \""
   ]
  },
  {
   "cell_type": "code",
   "execution_count": 4,
   "id": "ca830e68",
   "metadata": {},
   "outputs": [
    {
     "name": "stdout",
     "output_type": "stream",
     "text": [
      "Please enter the sting : 1234!_ \n",
      "double_char(\"1234!_ \") ➞ \"11223344!!__  \"\n"
     ]
    }
   ],
   "source": [
    "def double_char(s):\n",
    "    s1 = \"\"\n",
    "    for i in s:\n",
    "        s1 = s1 + i + i\n",
    "        \n",
    "    return s1\n",
    "   \n",
    "s = input(\"Please enter the sting : \")\n",
    "print(f\"double_char(\\\"{s}\\\") ➞ \\\"{double_char(s)}\\\"\")"
   ]
  },
  {
   "cell_type": "raw",
   "id": "74df7284",
   "metadata": {},
   "source": [
    "Question2\n",
    "\n",
    "Create a function that reverses a boolean value and returns the string \"boolean expected\" if another variable type \n",
    "is given.\n",
    "\n",
    "Examples\n",
    "\n",
    "reverse(True) ➞ False\n",
    "\n",
    "reverse(False) ➞ True\n",
    "\n",
    "reverse(0) ➞ \"boolean expected\"\n",
    "\n",
    "reverse(None) ➞ \"boolean expected\"\n"
   ]
  },
  {
   "cell_type": "code",
   "execution_count": 46,
   "id": "e0997f5f",
   "metadata": {},
   "outputs": [
    {
     "name": "stdout",
     "output_type": "stream",
     "text": [
      "Please enter the value : None\n",
      "reverse (None) ➞ \"boolean expected\"\n"
     ]
    }
   ],
   "source": [
    "def reverse(n):\n",
    "    \n",
    "    if type(n) == bool:\n",
    "        return not n\n",
    "    \n",
    "    \n",
    "    else:\n",
    "        return \"\\\"boolean expected\\\"\"\n",
    "    \n",
    "n = eval(input(\"Please enter the value : \"))\n",
    "print(f\"reverse ({n}) ➞ {reverse(n)}\")"
   ]
  },
  {
   "cell_type": "raw",
   "id": "c62fa926",
   "metadata": {},
   "source": [
    "Question3\n",
    "\n",
    "Create a function that returns the thickness (in meters) of a piece of paper after folding it n number of times. \n",
    "The paper starts off with a thickness of 0.5mm.\n",
    "\n",
    "Examples\n",
    "num_layers(1) ➞ \"0.001m\"\n",
    "# Paper folded once is 1mm (equal to 0.001m)\n",
    "\n",
    "num_layers(4) ➞ \"0.008m\"\n",
    "# Paper folded 4 times is 8mm (equal to 0.008m)\n",
    "\n",
    "num_layers(21) ➞ \"1048.576m\"\n",
    "# Paper folded 21 times is 1048576mm (equal to 1048.576m)\n"
   ]
  },
  {
   "cell_type": "code",
   "execution_count": 68,
   "id": "32d2ba6e",
   "metadata": {},
   "outputs": [
    {
     "name": "stdout",
     "output_type": "stream",
     "text": [
      "Please enter the number of times folding a piece of paper : 21\n",
      "num_layers(21) ➞ \"1048.576m\"\n"
     ]
    }
   ],
   "source": [
    "def num_layers(n):\n",
    "    \n",
    "    z = 0.5*(2**n)\n",
    "    return z/1000\n",
    "\n",
    "n = int(input(\"Please enter the number of times folding a piece of paper : \"))\n",
    "\n",
    "print(f\"num_layers({n}) ➞ \\\"{num_layers(n)}m\\\"\")"
   ]
  },
  {
   "cell_type": "raw",
   "id": "9550d325",
   "metadata": {},
   "source": [
    "Question4\n",
    "\n",
    "Create a function that takes a single string as argument and returns an ordered list containing the indices of \n",
    "all capital letters in the string.\n",
    "\n",
    "Examples\n",
    "\n",
    "index_of_caps(\"eDaBiT\") ➞ [1, 3, 5]\n",
    "\n",
    "index_of_caps(\"eQuINoX\") ➞ [1, 3, 4, 6]\n",
    "\n",
    "index_of_caps(\"determine\") ➞ []\n",
    "\n",
    "index_of_caps(\"STRIKE\") ➞ [0, 1, 2, 3, 4, 5]\n",
    "\n",
    "index_of_caps(\"sUn\") ➞ [1]"
   ]
  },
  {
   "cell_type": "code",
   "execution_count": 73,
   "id": "94dc6939",
   "metadata": {},
   "outputs": [
    {
     "name": "stdout",
     "output_type": "stream",
     "text": [
      "Please enter the string : eQuINoX\n",
      "index_of_caps (eQuINoX) ➞ [1, 3, 4, 6]\n"
     ]
    }
   ],
   "source": [
    "def index_of_caps(s):\n",
    "    l=[]\n",
    "    for i in range(0,len(s)):\n",
    "        if s[i].isupper():\n",
    "            l.append(i)\n",
    "            \n",
    "    return l\n",
    "s = input(\"Please enter the string : \")\n",
    "print(f\"index_of_caps ({s}) ➞ {index_of_caps(s)}\")"
   ]
  },
  {
   "cell_type": "raw",
   "id": "5dfd2a37",
   "metadata": {},
   "source": [
    "Question5\n",
    "\n",
    "Using list comprehensions, create a function that finds all even numbers from 1 to the given number.\n",
    "Examples\n",
    "find_even_nums(8) ➞ [2, 4, 6, 8]\n",
    "\n",
    "find_even_nums(4) ➞ [2, 4]\n",
    "\n",
    "find_even_nums(2) ➞ [2]"
   ]
  },
  {
   "cell_type": "code",
   "execution_count": 80,
   "id": "f2455ac8",
   "metadata": {
    "scrolled": true
   },
   "outputs": [
    {
     "name": "stdout",
     "output_type": "stream",
     "text": [
      "Please enter the number : 8\n",
      "find_even_num(8) ➞ [2, 4, 6, 8]\n"
     ]
    }
   ],
   "source": [
    "def find_even_num(n):\n",
    "    \n",
    "    return [i for i in range(1,n+1) if i%2 ==0 ]\n",
    "\n",
    "n = int(input(\"Please enter the number : \"))\n",
    "print(f\"find_even_num({n}) ➞ {find_even_num(n)}\")"
   ]
  }
 ],
 "metadata": {
  "kernelspec": {
   "display_name": "Python 3 (ipykernel)",
   "language": "python",
   "name": "python3"
  },
  "language_info": {
   "codemirror_mode": {
    "name": "ipython",
    "version": 3
   },
   "file_extension": ".py",
   "mimetype": "text/x-python",
   "name": "python",
   "nbconvert_exporter": "python",
   "pygments_lexer": "ipython3",
   "version": "3.9.12"
  }
 },
 "nbformat": 4,
 "nbformat_minor": 5
}
