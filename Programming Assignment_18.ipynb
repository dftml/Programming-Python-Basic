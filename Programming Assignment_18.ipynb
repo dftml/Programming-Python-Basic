{
 "cells": [
  {
   "cell_type": "raw",
   "id": "16f552e4",
   "metadata": {},
   "source": [
    "Question 1:\n",
    "\n",
    "Create a function that takes a list of non-negative integers and strings and return a new list without the strings.\n",
    "Examples\n",
    "filter_list([1, 2, \"a\", \"b\"]) ➞ [1, 2]\n",
    "\n",
    "filter_list([1, \"a\", \"b\", 0, 15]) ➞ [1, 0, 15]\n",
    "\n",
    "filter_list([1, 2, \"aasf\", \"1\", \"123\", 123]) ➞ [1, 2, 123]"
   ]
  },
  {
   "cell_type": "code",
   "execution_count": 123,
   "id": "64eed9f8",
   "metadata": {},
   "outputs": [
    {
     "name": "stdout",
     "output_type": "stream",
     "text": [
      "Please enter the list[1, 2, \"aasf\", \"1\", \"123\", 123]\n",
      "filter_list([1, 2, 'aasf', '1', '123', 123])) ➞ [1, 2, 123]\n"
     ]
    }
   ],
   "source": [
    "n = eval(input(\"Please enter the list\"))\n",
    "\n",
    "def filter_list(s):\n",
    "    \n",
    "    if type(s) == int:\n",
    "        return True\n",
    "    \n",
    "    else:\n",
    "        return False\n",
    "    \n",
    "z = filter(filter_list,n)\n",
    "\n",
    "print(f\"filter_list({n})) ➞ {list(z)}\")"
   ]
  },
  {
   "cell_type": "raw",
   "id": "42b2e991",
   "metadata": {},
   "source": [
    "Question 2:\n",
    "\n",
    "The \"Reverser\" takes a string as input and returns that string in reverse order, with the opposite case.\n",
    "Examples\n",
    "reverse(\"Hello World\") ➞ \"DLROw OLLEh\"\n",
    "\n",
    "reverse(\"ReVeRsE\") ➞ \"eSrEvEr\"\n",
    "\n",
    "reverse(\"Radar\") ➞ \"RADAr\""
   ]
  },
  {
   "cell_type": "code",
   "execution_count": 6,
   "id": "1b0865c0",
   "metadata": {},
   "outputs": [
    {
     "name": "stdout",
     "output_type": "stream",
     "text": [
      "Please enter the stringHello World\n",
      "reverse(\"Hello World\") ➞ \"DLROw OLLEh\"\n"
     ]
    }
   ],
   "source": [
    "s = input(\"Please enter the string\")\n",
    "def reverse(s):\n",
    "    s1 = \"\"\n",
    "    for i in s:\n",
    "        if i.islower():\n",
    "            i = i.upper() \n",
    "        \n",
    "        else:\n",
    "            i = i.lower()\n",
    "        \n",
    "        s1 = i + s1\n",
    "        \n",
    "    return s1\n",
    "        \n",
    "print(f\"reverse(\\\"{s}\\\") ➞ \\\"{reverse(s)}\\\"\")"
   ]
  },
  {
   "cell_type": "raw",
   "id": "a96e0915",
   "metadata": {},
   "source": [
    "Question 3:\n",
    "\n",
    "You can assign variables from lists like this:\n",
    "lst = [1, 2, 3, 4, 5, 6]\n",
    "first = lst[0]\n",
    "middle = lst[1:-1]\n",
    "last = lst[-1]\n",
    "\n",
    "print(first) ➞ outputs 1\n",
    "print(middle) ➞ outputs [2, 3, 4, 5]\n",
    "print(last) ➞ outputs 6\n",
    "\n",
    "With Python 3, you can assign variables from lists in a much more succinct way. Create variables first, middle and \n",
    "last from the given list using destructuring assignment (check the Resources tab for some examples), where:\n",
    "\n",
    "first  ➞ 1\n",
    "\n",
    "middle ➞ [2, 3, 4, 5]\n",
    "\n",
    "last ➞ 6\n",
    "\n",
    "Your task is to unpack the list writeyourcodehere into three variables, being first, middle, and last, with middle \n",
    "being everything in between the first and last element. Then print all three variables."
   ]
  },
  {
   "cell_type": "code",
   "execution_count": 27,
   "id": "12ab5b6f",
   "metadata": {},
   "outputs": [
    {
     "name": "stdout",
     "output_type": "stream",
     "text": [
      "Please enter the variables of list : 1,2,3,4,5,6\n",
      "first ➞ 1\n",
      "middle ➞ [2, 3, 4, 5]\n",
      "last ➞ 6\n"
     ]
    }
   ],
   "source": [
    "s = [int(x) for x in input(\"Please enter the variables of list : \").split(\",\")]\n",
    "\n",
    "print(f\"first ➞ {s[0]}\")\n",
    "\n",
    "print(f\"middle ➞ {s[1:-1]}\")\n",
    "\n",
    "print(f\"last ➞ {s[-1]}\")"
   ]
  },
  {
   "cell_type": "raw",
   "id": "f6cbcaa5",
   "metadata": {},
   "source": [
    "Question 4:\n",
    "\n",
    "Write a function that calculates the factorial of a number recursively.\n",
    "Examples\n",
    "factorial(5) ➞ 120\n",
    "\n",
    "factorial(3) ➞ 6\n",
    "\n",
    "factorial(1) ➞ 1\n",
    "\n",
    "factorial(0) ➞ 1"
   ]
  },
  {
   "cell_type": "code",
   "execution_count": 13,
   "id": "5a933d85",
   "metadata": {},
   "outputs": [
    {
     "name": "stdout",
     "output_type": "stream",
     "text": [
      "Please enter the number : 5\n",
      "factorial(5) ➞ 120\n"
     ]
    }
   ],
   "source": [
    "\n",
    "def factorial(n):\n",
    "    \n",
    "    \n",
    "    if n == 0 or n ==1:\n",
    "        return 1\n",
    "    \n",
    "    else:\n",
    "        return n * factorial(n-1)\n",
    "    \n",
    "n = int(input(\"Please enter the number : \"))\n",
    "\n",
    "print(f\"factorial({n}) ➞ {factorial(n)}\")\n"
   ]
  },
  {
   "cell_type": "raw",
   "id": "54b8a7c6",
   "metadata": {},
   "source": [
    "Question 5:\n",
    "\n",
    "Write a function that moves all elements of one type to the end of the list.\n",
    "Examples\n",
    "\n",
    "move_to_end([1, 3, 2, 4, 4, 1], 1) ➞ [3, 2, 4, 4, 1, 1]\n",
    "\n",
    "# Move all the 1s to the end of the array.\n",
    "\n",
    "move_to_end([7, 8, 9, 1, 2, 3, 4], 9) ➞ [7, 8, 1, 2, 3, 4, 9]\n",
    "\n",
    "move_to_end([\"a\", \"a\", \"a\", \"b\"], \"a\") ➞ [\"b\", \"a\", \"a\", \"a\"]"
   ]
  },
  {
   "cell_type": "code",
   "execution_count": 17,
   "id": "56177eff",
   "metadata": {},
   "outputs": [
    {
     "data": {
      "text/plain": [
       "['b', 'a', 'a', 'a']"
      ]
     },
     "execution_count": 17,
     "metadata": {},
     "output_type": "execute_result"
    }
   ],
   "source": [
    "def move_to_end(l,n):\n",
    "    l1 = []\n",
    "    l2 = []\n",
    "    for i in range(len(l)):\n",
    "        if l[i] == n:\n",
    "            l2.append(l[i])\n",
    "        else:\n",
    "            l1.append(l[i])\n",
    "    return l1+l2\n",
    "\n",
    "move_to_end([\"a\", \"a\", \"a\", \"b\"], \"a\")\n",
    "    "
   ]
  }
 ],
 "metadata": {
  "kernelspec": {
   "display_name": "Python 3 (ipykernel)",
   "language": "python",
   "name": "python3"
  },
  "language_info": {
   "codemirror_mode": {
    "name": "ipython",
    "version": 3
   },
   "file_extension": ".py",
   "mimetype": "text/x-python",
   "name": "python",
   "nbconvert_exporter": "python",
   "pygments_lexer": "ipython3",
   "version": "3.9.12"
  }
 },
 "nbformat": 4,
 "nbformat_minor": 5
}
