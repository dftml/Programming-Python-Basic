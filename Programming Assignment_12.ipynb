{
 "cells": [
  {
   "cell_type": "markdown",
   "id": "f2e0ffbb",
   "metadata": {},
   "source": [
    "# Programming Assignment_12"
   ]
  },
  {
   "cell_type": "code",
   "execution_count": 6,
   "id": "e189f0ff",
   "metadata": {},
   "outputs": [
    {
     "name": "stdout",
     "output_type": "stream",
     "text": [
      "{1, 2, 5, 6, 7, 8, 10, 11, 12}\n"
     ]
    }
   ],
   "source": [
    "# Write a Python program to Extract Unique values dictionary values\n",
    "\n",
    "\n",
    "d = {'gfg' : [5, 6, 7, 8], 'is' : [10, 11, 7],  'best' : [6, 12, 10, 8], 'for' : [1, 2, 5]}\n",
    "l = []                                   \n",
    "for i in d:\n",
    "    l.extend(d[i])\n",
    "\n",
    "z = set(l)\n",
    "print(z)"
   ]
  },
  {
   "cell_type": "code",
   "execution_count": 5,
   "id": "b27788c1",
   "metadata": {},
   "outputs": [
    {
     "name": "stdout",
     "output_type": "stream",
     "text": [
      "57\n"
     ]
    }
   ],
   "source": [
    "# Write a Python program to find the sum of all items in a dictionary\n",
    "\n",
    "\n",
    "d = {'gfg' : 5, 'is' : 10,  'best' : 17, 'for' : 25}\n",
    "s = 0\n",
    "for i in d:\n",
    "    s = s + d[i]\n",
    "print(s)"
   ]
  },
  {
   "cell_type": "code",
   "execution_count": 48,
   "id": "8216d5af",
   "metadata": {},
   "outputs": [
    {
     "name": "stdout",
     "output_type": "stream",
     "text": [
      "{'January': 31, 'February': 28, 'March': 31}\n"
     ]
    }
   ],
   "source": [
    "# Write a Python program to convert key-values list to flat dictionary\n",
    "\n",
    "\n",
    "d = { \"name\" : [\"January\", \"February\", \"March\"], \"Dates\" : [31,28,31]}\n",
    "\n",
    "l = []\n",
    "for i in d:\n",
    "    l.append(d[i])\n",
    "\n",
    "z = {}\n",
    "for j in range(0,len(l)-1):\n",
    "    for k in range(0,len(l[j])):\n",
    "        z[l[j][k]] = l[j+1][k]\n",
    "        \n",
    "print(z)"
   ]
  },
  {
   "cell_type": "code",
   "execution_count": 29,
   "id": "864756e4",
   "metadata": {},
   "outputs": [
    {
     "data": {
      "text/plain": [
       "3"
      ]
     },
     "execution_count": 29,
     "metadata": {},
     "output_type": "execute_result"
    }
   ],
   "source": [
    "len(d2[\"name\"])"
   ]
  },
  {
   "cell_type": "code",
   "execution_count": 74,
   "id": "4164cdc4",
   "metadata": {},
   "outputs": [
    {
     "name": "stdout",
     "output_type": "stream",
     "text": [
      "Resultant Dictonary {'hemant': '21', 'yash': '10', 'nishant': '9', 'anjeev': '15', 'bhavi': '2', 'suraj': '32'}\n"
     ]
    }
   ],
   "source": [
    "# Write a Python program to insertion at the beginning in OrderedDict\n",
    "\n",
    "from collections import OrderedDict\n",
    "\n",
    "\n",
    "\n",
    "d = OrderedDict({'yash': '10', 'nishant': '9','anjeev': '15', 'bhavi': '2', 'suraj': '32'})\n",
    "\n",
    "d.update({\"hemant\" : \"21\"})\n",
    "d.move_to_end(\"hemant\", last = False)\n",
    "\n",
    "print(f\"Resultant Dictonary {dict(d)}\")"
   ]
  },
  {
   "cell_type": "code",
   "execution_count": 5,
   "id": "db8a8fd2",
   "metadata": {},
   "outputs": [
    {
     "name": "stdout",
     "output_type": "stream",
     "text": [
      "OrderedDict([(0, 'e'), (5, 'e'), (6, 'e'), (7, 'r'), (10, 'r'), (13, 'k')])\n",
      "[[0, 5, 6], [7, 10], [13]]\n",
      "\n",
      "\n",
      "TRUE, order of character in string.\n"
     ]
    }
   ],
   "source": [
    "# Write a Python program to check order of character in string using OrderedDict()\n",
    "\n",
    "\n",
    "\"\"\"This Program for multiple duplicate characters on a order of character in string\"\"\"\n",
    "\n",
    "s = \"engineers rock\"\n",
    "p = \"erk\"\n",
    "\n",
    "from collections import OrderedDict\n",
    "\n",
    "# creating a ordered dictonary according to order of character \n",
    "\n",
    "od = OrderedDict()\n",
    "\n",
    "for i in range(0,len(p)):\n",
    "    for j in range(0,len(s)):\n",
    "       \n",
    "    \n",
    "        if p[i] == s[j]:\n",
    "\n",
    "            od[j] = p[i]\n",
    "print(od)\n",
    "\n",
    "\n",
    "# corresponding to string insert into a list\n",
    "        \n",
    "l1 = [] \n",
    "for i in range(0,len(p)):\n",
    "    l = []\n",
    "    for k in od.keys():\n",
    "        if p[i] == od[k]:\n",
    "            l.append(k)\n",
    "            \n",
    "    l1.append(l)\n",
    "print(l1)\n",
    "print(\"\\n\")\n",
    "def index_value(l1):\n",
    "    for m in range(0,len(l1)-1):\n",
    "        for n in range(0,len(l1[m])):\n",
    "        \n",
    "            if l1[m][n] > l1[m+1][0]:\n",
    "                return (\"FALSE\")\n",
    "            \n",
    "    else:\n",
    "        return \"TRUE\"\n",
    "\n",
    "print(f\"{index_value(l1)}, order of character in string.\")"
   ]
  },
  {
   "cell_type": "code",
   "execution_count": 3,
   "id": "d8334595",
   "metadata": {},
   "outputs": [
    {
     "name": "stdout",
     "output_type": "stream",
     "text": [
      "Enter the value of string : For learning data science ineuron is the best platform. \n",
      "Please enter the pattern : lspf\n",
      "True, order of character in string.\n"
     ]
    }
   ],
   "source": [
    "# Write a Python program to check order of character in string using OrderedDict()\n",
    "\n",
    "\n",
    "\"\"\"This Program for characters on a order of character in string\"\"\"\n",
    "\n",
    "s = input(\"Enter the value of string : \")\n",
    "p = input(\"Please enter the pattern : \")\n",
    "\n",
    "from collections import OrderedDict\n",
    "\n",
    "# creating a ordered dictonary for each character \n",
    "\n",
    "od = OrderedDict()\n",
    "\n",
    "for i in s:\n",
    "        od[i] = 0\n",
    "        \n",
    "def order_check(od,p):\n",
    "    n = 0\n",
    "    for j in od.keys():\n",
    "    \n",
    "        if j == p[n]:\n",
    "            n = n+1\n",
    "        \n",
    "        if n == len(p):\n",
    "            return \"True\"\n",
    "        \n",
    "    return \"False\"\n",
    "\n",
    "print(f\"{order_check(od,p)}, order of character in string.\")"
   ]
  },
  {
   "cell_type": "code",
   "execution_count": 14,
   "id": "c662d995",
   "metadata": {},
   "outputs": [
    {
     "data": {
      "text/plain": [
       "{'gfg': [5, 6, 7, 8],\n",
       " 'is': [10, 11, 7],\n",
       " 'best': [6, 12, 10, 8],\n",
       " 'for': [1, 2, 5]}"
      ]
     },
     "execution_count": 14,
     "metadata": {},
     "output_type": "execute_result"
    }
   ],
   "source": [
    "# Write a Python program to Merging two Dictionaries\n",
    "\n",
    "d = {'gfg' : [5, 6, 7, 8]}\n",
    "d1 = {'is' : [10, 11, 7]}\n",
    "d2 = {'best' : [6, 12, 10, 8], 'for' : [1, 2, 5]}\n",
    "\n",
    "r = {**d, **d1, **d2}\n",
    "r"
   ]
  },
  {
   "cell_type": "code",
   "execution_count": 17,
   "id": "da797950",
   "metadata": {},
   "outputs": [
    {
     "name": "stdout",
     "output_type": "stream",
     "text": [
      "anjeev, bhavi, nishant, suraj, yash, "
     ]
    }
   ],
   "source": [
    "# Write a Python program to sort Python Dictionaries by Key or Value\n",
    "\n",
    "d1 = {'yash': '10', 'nishant': '9','anjeev': '15', 'bhavi': '2', 'suraj': '32'}\n",
    "\n",
    "l = []\n",
    "\n",
    "for i in d1:\n",
    "    \n",
    "    l.append(i)\n",
    "\n",
    "l.sort()\n",
    "\n",
    "for j in l:\n",
    "    print(j, end = \", \")"
   ]
  }
 ],
 "metadata": {
  "kernelspec": {
   "display_name": "Python 3 (ipykernel)",
   "language": "python",
   "name": "python3"
  },
  "language_info": {
   "codemirror_mode": {
    "name": "ipython",
    "version": 3
   },
   "file_extension": ".py",
   "mimetype": "text/x-python",
   "name": "python",
   "nbconvert_exporter": "python",
   "pygments_lexer": "ipython3",
   "version": "3.9.12"
  }
 },
 "nbformat": 4,
 "nbformat_minor": 5
}
